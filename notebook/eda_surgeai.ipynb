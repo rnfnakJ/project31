{
 "cells": [
  {
   "cell_type": "code",
   "execution_count": 10,
   "metadata": {},
   "outputs": [
    {
     "name": "stderr",
     "output_type": "stream",
     "text": [
      "[nltk_data] Downloading package wordnet to /Users/hasana/nltk_data...\n",
      "[nltk_data]   Package wordnet is already up-to-date!\n",
      "[nltk_data] Downloading package stopwords to\n",
      "[nltk_data]     /Users/hasana/nltk_data...\n",
      "[nltk_data]   Package stopwords is already up-to-date!\n",
      "[nltk_data] Downloading package omw-1.4 to /Users/hasana/nltk_data...\n",
      "[nltk_data]   Package omw-1.4 is already up-to-date!\n"
     ]
    }
   ],
   "source": [
    "import re\n",
    "import string\n",
    "import numpy as np \n",
    "import random\n",
    "import pandas as pd \n",
    "import matplotlib.pyplot as plt\n",
    "import seaborn as sns\n",
    "%matplotlib inline\n",
    "from plotly import graph_objs as go\n",
    "import plotly.express as px\n",
    "import plotly.figure_factory as ff\n",
    "from collections import Counter\n",
    "\n",
    "from PIL import Image\n",
    "from wordcloud import WordCloud, STOPWORDS, ImageColorGenerator\n",
    "\n",
    "\n",
    "import nltk\n",
    "from nltk.corpus import stopwords\n",
    "\n",
    "from tqdm import tqdm\n",
    "import os\n",
    "import nltk\n",
    "import spacy\n",
    "import random\n",
    "from spacy.util import compounding\n",
    "from spacy.util import minibatch\n",
    "\n",
    "import string\n",
    "import emoji\n",
    "import pandas as pd\n",
    "import re, string\n",
    "import nltk\n",
    "from nltk import word_tokenize\n",
    "from nltk.corpus import stopwords\n",
    "\n",
    "ps = nltk.PorterStemmer()\n",
    "w_tokenizer = nltk.tokenize.WhitespaceTokenizer()\n",
    "lemmatizer = nltk.stem.WordNetLemmatizer()\n",
    "\n",
    "nltk.download('wordnet')\n",
    "nltk.download('stopwords')\n",
    "nltk.download('omw-1.4')\n",
    "\n",
    "stop_words = set(stopwords.words('english'))\n",
    "\n",
    "import warnings\n",
    "warnings.filterwarnings(\"ignore\")\n",
    "\n",
    "import os\n",
    "# for dirname, _, filenames in os.walk('/kaggle/input'):\n",
    "#     for filename in filenames:\n",
    "#         print(os.path.join(dirname, filename))\n",
    "\n",
    "#"
   ]
  },
  {
   "cell_type": "code",
   "execution_count": 11,
   "metadata": {},
   "outputs": [],
   "source": [
    "### REad data"
   ]
  },
  {
   "cell_type": "code",
   "execution_count": 12,
   "metadata": {},
   "outputs": [],
   "source": [
    "data = pd.read_csv('../data/train.csv')"
   ]
  },
  {
   "cell_type": "code",
   "execution_count": 13,
   "metadata": {},
   "outputs": [
    {
     "data": {
      "text/html": [
       "<div>\n",
       "<style scoped>\n",
       "    .dataframe tbody tr th:only-of-type {\n",
       "        vertical-align: middle;\n",
       "    }\n",
       "\n",
       "    .dataframe tbody tr th {\n",
       "        vertical-align: top;\n",
       "    }\n",
       "\n",
       "    .dataframe thead th {\n",
       "        text-align: right;\n",
       "    }\n",
       "</style>\n",
       "<table border=\"1\" class=\"dataframe\">\n",
       "  <thead>\n",
       "    <tr style=\"text-align: right;\">\n",
       "      <th></th>\n",
       "      <th>worker_id</th>\n",
       "      <th>task_id</th>\n",
       "      <th>task_response_id</th>\n",
       "      <th>is_reviewed</th>\n",
       "      <th>review_score</th>\n",
       "      <th>tweet_id</th>\n",
       "      <th>text</th>\n",
       "      <th>username</th>\n",
       "      <th>bio</th>\n",
       "      <th>Categorize the tweet</th>\n",
       "    </tr>\n",
       "  </thead>\n",
       "  <tbody>\n",
       "    <tr>\n",
       "      <th>0</th>\n",
       "      <td>4TG67HVWJNDP</td>\n",
       "      <td>909fc038-d4fd-45f0-b849-d975760f163d</td>\n",
       "      <td>02dcb39a-c525-418a-9198-5c08d354935a</td>\n",
       "      <td>True</td>\n",
       "      <td>NaN</td>\n",
       "      <td>1540795861126352898</td>\n",
       "      <td>It getting pregnant endangers your life......\\...</td>\n",
       "      <td>AChristhope</td>\n",
       "      <td>Humankind is neither humane nor kind. Creator ...</td>\n",
       "      <td>Pro-life</td>\n",
       "    </tr>\n",
       "    <tr>\n",
       "      <th>1</th>\n",
       "      <td>2AZWNZRTVACE</td>\n",
       "      <td>0dcd0bda-127d-4b57-a479-08efc85fb902</td>\n",
       "      <td>031abcc4-deb2-42b2-8b36-979f77d006c6</td>\n",
       "      <td>False</td>\n",
       "      <td>NaN</td>\n",
       "      <td>1540784525864669186</td>\n",
       "      <td>@bluekat323 @leighmatsell @caambers @Robthefro...</td>\n",
       "      <td>LegalLatino2022</td>\n",
       "      <td>Left January 2021. Starting anew. Love all ani...</td>\n",
       "      <td>Pro-life</td>\n",
       "    </tr>\n",
       "    <tr>\n",
       "      <th>2</th>\n",
       "      <td>6CNHTCG6W6XM</td>\n",
       "      <td>8617b170-4d3a-4789-b020-c51c0ce1e7c9</td>\n",
       "      <td>035e1a0b-fec5-4c88-81a4-6a79ba4c1d2f</td>\n",
       "      <td>False</td>\n",
       "      <td>NaN</td>\n",
       "      <td>1540795218097688576</td>\n",
       "      <td>@JoeBiden Dont you have the power to make an e...</td>\n",
       "      <td>Sploiv</td>\n",
       "      <td>i dont fuckin know anymore</td>\n",
       "      <td>Pro-choice</td>\n",
       "    </tr>\n",
       "    <tr>\n",
       "      <th>3</th>\n",
       "      <td>7R2NKCJQNXPP</td>\n",
       "      <td>851318f8-7671-4f45-9a98-58ebe7013de1</td>\n",
       "      <td>037c1004-9dd9-4bce-a792-adffb278be86</td>\n",
       "      <td>False</td>\n",
       "      <td>NaN</td>\n",
       "      <td>1540795712610258944</td>\n",
       "      <td>https://t.co/2vL1gxc3P3</td>\n",
       "      <td>AuntyLush</td>\n",
       "      <td>Judge jury and old joyce ~~ She/her</td>\n",
       "      <td>Pro-choice</td>\n",
       "    </tr>\n",
       "    <tr>\n",
       "      <th>4</th>\n",
       "      <td>X6P6DQRXD62A</td>\n",
       "      <td>a42881d0-a01a-4c7c-acfa-9d21434b59b0</td>\n",
       "      <td>03d7bc4f-4fd0-4658-bf0f-3151150d6d41</td>\n",
       "      <td>False</td>\n",
       "      <td>NaN</td>\n",
       "      <td>1540796129725427715</td>\n",
       "      <td>The overturning of Roe was not an attack on wo...</td>\n",
       "      <td>parlermaid</td>\n",
       "      <td>NaN</td>\n",
       "      <td>Pro-life</td>\n",
       "    </tr>\n",
       "  </tbody>\n",
       "</table>\n",
       "</div>"
      ],
      "text/plain": [
       "      worker_id                               task_id  \\\n",
       "0  4TG67HVWJNDP  909fc038-d4fd-45f0-b849-d975760f163d   \n",
       "1  2AZWNZRTVACE  0dcd0bda-127d-4b57-a479-08efc85fb902   \n",
       "2  6CNHTCG6W6XM  8617b170-4d3a-4789-b020-c51c0ce1e7c9   \n",
       "3  7R2NKCJQNXPP  851318f8-7671-4f45-9a98-58ebe7013de1   \n",
       "4  X6P6DQRXD62A  a42881d0-a01a-4c7c-acfa-9d21434b59b0   \n",
       "\n",
       "                       task_response_id  is_reviewed  review_score  \\\n",
       "0  02dcb39a-c525-418a-9198-5c08d354935a         True           NaN   \n",
       "1  031abcc4-deb2-42b2-8b36-979f77d006c6        False           NaN   \n",
       "2  035e1a0b-fec5-4c88-81a4-6a79ba4c1d2f        False           NaN   \n",
       "3  037c1004-9dd9-4bce-a792-adffb278be86        False           NaN   \n",
       "4  03d7bc4f-4fd0-4658-bf0f-3151150d6d41        False           NaN   \n",
       "\n",
       "              tweet_id                                               text  \\\n",
       "0  1540795861126352898  It getting pregnant endangers your life......\\...   \n",
       "1  1540784525864669186  @bluekat323 @leighmatsell @caambers @Robthefro...   \n",
       "2  1540795218097688576  @JoeBiden Dont you have the power to make an e...   \n",
       "3  1540795712610258944                            https://t.co/2vL1gxc3P3   \n",
       "4  1540796129725427715  The overturning of Roe was not an attack on wo...   \n",
       "\n",
       "          username                                                bio  \\\n",
       "0      AChristhope  Humankind is neither humane nor kind. Creator ...   \n",
       "1  LegalLatino2022  Left January 2021. Starting anew. Love all ani...   \n",
       "2           Sploiv                         i dont fuckin know anymore   \n",
       "3        AuntyLush                Judge jury and old joyce ~~ She/her   \n",
       "4       parlermaid                                                NaN   \n",
       "\n",
       "  Categorize the tweet  \n",
       "0             Pro-life  \n",
       "1             Pro-life  \n",
       "2           Pro-choice  \n",
       "3           Pro-choice  \n",
       "4             Pro-life  "
      ]
     },
     "execution_count": 13,
     "metadata": {},
     "output_type": "execute_result"
    }
   ],
   "source": [
    "data.head()"
   ]
  },
  {
   "cell_type": "code",
   "execution_count": 14,
   "metadata": {},
   "outputs": [
    {
     "data": {
      "text/plain": [
       "Index(['worker_id', 'task_id', 'task_response_id', 'is_reviewed',\n",
       "       'review_score', 'tweet_id', 'text', 'username', 'bio',\n",
       "       'Categorize the tweet'],\n",
       "      dtype='object')"
      ]
     },
     "execution_count": 14,
     "metadata": {},
     "output_type": "execute_result"
    }
   ],
   "source": [
    "data.columns"
   ]
  },
  {
   "cell_type": "markdown",
   "metadata": {},
   "source": [
    "### Select columns ot work with"
   ]
  },
  {
   "cell_type": "code",
   "execution_count": 15,
   "metadata": {},
   "outputs": [],
   "source": [
    "df = data[[ 'is_reviewed','text', 'username', 'bio', 'Categorize the tweet']]"
   ]
  },
  {
   "cell_type": "code",
   "execution_count": 21,
   "metadata": {},
   "outputs": [],
   "source": [
    "df =df.rename(columns = {\"Categorize the tweet\": \"sentiments\"})"
   ]
  },
  {
   "cell_type": "code",
   "execution_count": 22,
   "metadata": {},
   "outputs": [
    {
     "data": {
      "text/html": [
       "<div>\n",
       "<style scoped>\n",
       "    .dataframe tbody tr th:only-of-type {\n",
       "        vertical-align: middle;\n",
       "    }\n",
       "\n",
       "    .dataframe tbody tr th {\n",
       "        vertical-align: top;\n",
       "    }\n",
       "\n",
       "    .dataframe thead th {\n",
       "        text-align: right;\n",
       "    }\n",
       "</style>\n",
       "<table border=\"1\" class=\"dataframe\">\n",
       "  <thead>\n",
       "    <tr style=\"text-align: right;\">\n",
       "      <th></th>\n",
       "      <th>is_reviewed</th>\n",
       "      <th>text</th>\n",
       "      <th>username</th>\n",
       "      <th>bio</th>\n",
       "      <th>sentiments</th>\n",
       "    </tr>\n",
       "  </thead>\n",
       "  <tbody>\n",
       "    <tr>\n",
       "      <th>count</th>\n",
       "      <td>1025</td>\n",
       "      <td>1025</td>\n",
       "      <td>1025</td>\n",
       "      <td>866</td>\n",
       "      <td>1025</td>\n",
       "    </tr>\n",
       "    <tr>\n",
       "      <th>unique</th>\n",
       "      <td>2</td>\n",
       "      <td>1025</td>\n",
       "      <td>1024</td>\n",
       "      <td>865</td>\n",
       "      <td>2</td>\n",
       "    </tr>\n",
       "    <tr>\n",
       "      <th>top</th>\n",
       "      <td>False</td>\n",
       "      <td>It getting pregnant endangers your life......\\...</td>\n",
       "      <td>Chrismikoichi</td>\n",
       "      <td>looking to build up a following . I'll follow ...</td>\n",
       "      <td>Pro-choice</td>\n",
       "    </tr>\n",
       "    <tr>\n",
       "      <th>freq</th>\n",
       "      <td>1014</td>\n",
       "      <td>1</td>\n",
       "      <td>2</td>\n",
       "      <td>2</td>\n",
       "      <td>744</td>\n",
       "    </tr>\n",
       "  </tbody>\n",
       "</table>\n",
       "</div>"
      ],
      "text/plain": [
       "       is_reviewed                                               text  \\\n",
       "count         1025                                               1025   \n",
       "unique           2                                               1025   \n",
       "top          False  It getting pregnant endangers your life......\\...   \n",
       "freq          1014                                                  1   \n",
       "\n",
       "             username                                                bio  \\\n",
       "count            1025                                                866   \n",
       "unique           1024                                                865   \n",
       "top     Chrismikoichi  looking to build up a following . I'll follow ...   \n",
       "freq                2                                                  2   \n",
       "\n",
       "        sentiments  \n",
       "count         1025  \n",
       "unique           2  \n",
       "top     Pro-choice  \n",
       "freq           744  "
      ]
     },
     "execution_count": 22,
     "metadata": {},
     "output_type": "execute_result"
    }
   ],
   "source": [
    "df.describe()"
   ]
  },
  {
   "cell_type": "code",
   "execution_count": 23,
   "metadata": {},
   "outputs": [
    {
     "data": {
      "text/html": [
       "<style type=\"text/css\">\n",
       "#T_85561_row0_col1 {\n",
       "  background-color: #3f007d;\n",
       "  color: #f1f1f1;\n",
       "}\n",
       "#T_85561_row1_col1 {\n",
       "  background-color: #fcfbfd;\n",
       "  color: #000000;\n",
       "}\n",
       "</style>\n",
       "<table id=\"T_85561\">\n",
       "  <thead>\n",
       "    <tr>\n",
       "      <th class=\"blank level0\" >&nbsp;</th>\n",
       "      <th id=\"T_85561_level0_col0\" class=\"col_heading level0 col0\" >sentiments</th>\n",
       "      <th id=\"T_85561_level0_col1\" class=\"col_heading level0 col1\" >text</th>\n",
       "    </tr>\n",
       "  </thead>\n",
       "  <tbody>\n",
       "    <tr>\n",
       "      <th id=\"T_85561_level0_row0\" class=\"row_heading level0 row0\" >0</th>\n",
       "      <td id=\"T_85561_row0_col0\" class=\"data row0 col0\" >Pro-choice</td>\n",
       "      <td id=\"T_85561_row0_col1\" class=\"data row0 col1\" >744</td>\n",
       "    </tr>\n",
       "    <tr>\n",
       "      <th id=\"T_85561_level0_row1\" class=\"row_heading level0 row1\" >1</th>\n",
       "      <td id=\"T_85561_row1_col0\" class=\"data row1 col0\" >Pro-life</td>\n",
       "      <td id=\"T_85561_row1_col1\" class=\"data row1 col1\" >281</td>\n",
       "    </tr>\n",
       "  </tbody>\n",
       "</table>\n"
      ],
      "text/plain": [
       "<pandas.io.formats.style.Styler at 0x13048faf0>"
      ]
     },
     "execution_count": 23,
     "metadata": {},
     "output_type": "execute_result"
    }
   ],
   "source": [
    "temp = df.groupby('sentiments').count()['text'].reset_index().sort_values(by='text',ascending=False)\n",
    "temp.style.background_gradient(cmap='Purples')"
   ]
  },
  {
   "cell_type": "markdown",
   "metadata": {},
   "source": [
    "### Distribution of word counts"
   ]
  },
  {
   "cell_type": "code",
   "execution_count": 31,
   "metadata": {},
   "outputs": [],
   "source": [
    "df['Num_word_text'] = df['text'].apply(lambda x:len(str(x).split())) "
   ]
  },
  {
   "cell_type": "code",
   "execution_count": 32,
   "metadata": {},
   "outputs": [
    {
     "data": {
      "text/plain": [
       "0       18\n",
       "1       13\n",
       "4       21\n",
       "7       20\n",
       "8       16\n",
       "        ..\n",
       "1003    25\n",
       "1004    17\n",
       "1008    15\n",
       "1009    22\n",
       "1016    20\n",
       "Name: Num_word_text, Length: 281, dtype: int64"
      ]
     },
     "execution_count": 32,
     "metadata": {},
     "output_type": "execute_result"
    }
   ],
   "source": [
    "df[df.sentiments == 'Pro-life']['Num_word_text']"
   ]
  },
  {
   "cell_type": "code",
   "execution_count": 36,
   "metadata": {},
   "outputs": [],
   "source": [
    "data1 = df[df.sentiments == 'Pro-life']['Num_word_text']\n",
    "data2 = df[df.sentiments == 'Pro-choice']['Num_word_text']\n",
    "\n"
   ]
  },
  {
   "cell_type": "code",
   "execution_count": 39,
   "metadata": {},
   "outputs": [
    {
     "data": {
      "text/plain": [
       "<matplotlib.legend.Legend at 0x136d622e0>"
      ]
     },
     "execution_count": 39,
     "metadata": {},
     "output_type": "execute_result"
    },
    {
     "data": {
      "image/png": "[encoded data removed]",
      "text/plain": [
       "<Figure size 576x432 with 1 Axes>"
      ]
     },
     "metadata": {
      "needs_background": "light"
     },
     "output_type": "display_data"
    }
   ],
   "source": [
    "\n",
    "plt.figure(figsize=(8,6))\n",
    "plt.hist(data1, bins=10, alpha=0.5, label=\"pro-choice\")\n",
    "plt.hist(data2, bins=10, alpha=0.5, label=\"pro-life\")\n",
    "plt.xlabel(\"Number of words per Tweet\", size=14)\n",
    "plt.ylabel(\"Count\", size=14)\n",
    "plt.title(\"Distribution of Number of Words per Tweetss by Sentiment \")\n",
    "plt.legend(loc='upper right')"
   ]
  },
  {
   "cell_type": "code",
   "execution_count": null,
   "metadata": {},
   "outputs": [],
   "source": []
  }
 ],
 "metadata": {
  "kernelspec": {
   "display_name": "Python 3.9.12 ('dsci572env')",
   "language": "python",
   "name": "python3"
  },
  "language_info": {
   "codemirror_mode": {
    "name": "ipython",
    "version": 3
   },
   "file_extension": ".py",
   "mimetype": "text/x-python",
   "name": "python",
   "nbconvert_exporter": "python",
   "pygments_lexer": "ipython3",
   "version": "3.9.12"
  },
  "orig_nbformat": 4,
  "vscode": {
   "interpreter": {
    "hash": "49c76ddf62ca98de74eedc2bb55b33e27315dcb91d5e2af2ea84b0e3308bb054"
   }
  }
 },
 "nbformat": 4,
 "nbformat_minor": 2
}
