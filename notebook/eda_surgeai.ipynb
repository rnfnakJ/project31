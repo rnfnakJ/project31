{
 "cells": [
  {
   "cell_type": "markdown",
   "metadata": {},
   "source": [
    "# PROJECT 31: SURGEAI TWEET DATA EXPLORATORY DATA ANALYSIS"
   ]
  },
  {
   "cell_type": "markdown",
   "metadata": {},
   "source": [
    "## Author: Ebuwa Evbuoma-Fike\n",
    "## Last Edited: 07/16/2022"
   ]
  },
  {
   "cell_type": "markdown",
   "metadata": {},
   "source": [
    "# INSTALLATION PROCEDURES"
   ]
  },
  {
   "cell_type": "code",
   "execution_count": 189,
   "metadata": {},
   "outputs": [
    {
     "name": "stdout",
     "output_type": "stream",
     "text": [
      "Requirement already satisfied: scikit_learn in /Users/ebuwa/opt/anaconda3/lib/python3.9/site-packages (1.0.2)\n",
      "Requirement already satisfied: gensim in /Users/ebuwa/opt/anaconda3/lib/python3.9/site-packages (4.1.2)\n",
      "Requirement already satisfied: pyldavis in /Users/ebuwa/opt/anaconda3/lib/python3.9/site-packages (3.3.1)\n",
      "Collecting textstat\n",
      "  Downloading textstat-0.7.3-py3-none-any.whl (105 kB)\n",
      "\u001b[K     |████████████████████████████████| 105 kB 4.0 MB/s eta 0:00:01\n",
      "\u001b[?25hRequirement already satisfied: numpy>=1.14.6 in /Users/ebuwa/opt/anaconda3/lib/python3.9/site-packages (from scikit_learn) (1.21.5)\n",
      "Requirement already satisfied: threadpoolctl>=2.0.0 in /Users/ebuwa/opt/anaconda3/lib/python3.9/site-packages (from scikit_learn) (2.2.0)\n",
      "Requirement already satisfied: joblib>=0.11 in /Users/ebuwa/opt/anaconda3/lib/python3.9/site-packages (from scikit_learn) (1.1.0)\n",
      "Requirement already satisfied: scipy>=1.1.0 in /Users/ebuwa/opt/anaconda3/lib/python3.9/site-packages (from scikit_learn) (1.7.3)\n",
      "Requirement already satisfied: smart-open>=1.8.1 in /Users/ebuwa/opt/anaconda3/lib/python3.9/site-packages (from gensim) (5.2.1)\n",
      "Requirement already satisfied: funcy in /Users/ebuwa/opt/anaconda3/lib/python3.9/site-packages (from pyldavis) (1.17)\n",
      "Requirement already satisfied: setuptools in /Users/ebuwa/opt/anaconda3/lib/python3.9/site-packages (from pyldavis) (61.2.0)\n",
      "Requirement already satisfied: jinja2 in /Users/ebuwa/opt/anaconda3/lib/python3.9/site-packages (from pyldavis) (2.11.3)\n",
      "Requirement already satisfied: numexpr in /Users/ebuwa/opt/anaconda3/lib/python3.9/site-packages (from pyldavis) (2.8.1)\n",
      "Requirement already satisfied: sklearn in /Users/ebuwa/opt/anaconda3/lib/python3.9/site-packages (from pyldavis) (0.0)\n",
      "Requirement already satisfied: pandas>=1.2.0 in /Users/ebuwa/opt/anaconda3/lib/python3.9/site-packages (from pyldavis) (1.4.2)\n",
      "Requirement already satisfied: future in /Users/ebuwa/opt/anaconda3/lib/python3.9/site-packages (from pyldavis) (0.18.2)\n",
      "Collecting pyphen\n",
      "  Downloading pyphen-0.12.0-py3-none-any.whl (2.0 MB)\n",
      "\u001b[K     |████████████████████████████████| 2.0 MB 4.8 MB/s eta 0:00:01\n",
      "\u001b[?25hRequirement already satisfied: python-dateutil>=2.8.1 in /Users/ebuwa/opt/anaconda3/lib/python3.9/site-packages (from pandas>=1.2.0->pyldavis) (2.8.2)\n",
      "Requirement already satisfied: pytz>=2020.1 in /Users/ebuwa/opt/anaconda3/lib/python3.9/site-packages (from pandas>=1.2.0->pyldavis) (2021.3)\n",
      "Requirement already satisfied: six>=1.5 in /Users/ebuwa/opt/anaconda3/lib/python3.9/site-packages (from python-dateutil>=2.8.1->pandas>=1.2.0->pyldavis) (1.16.0)\n",
      "Requirement already satisfied: MarkupSafe>=0.23 in /Users/ebuwa/opt/anaconda3/lib/python3.9/site-packages (from jinja2->pyldavis) (2.0.1)\n",
      "Requirement already satisfied: packaging in /Users/ebuwa/opt/anaconda3/lib/python3.9/site-packages (from numexpr->pyldavis) (21.3)\n",
      "Requirement already satisfied: pyparsing!=3.0.5,>=2.0.2 in /Users/ebuwa/opt/anaconda3/lib/python3.9/site-packages (from packaging->numexpr->pyldavis) (3.0.4)\n",
      "Installing collected packages: pyphen, textstat\n",
      "Successfully installed pyphen-0.12.0 textstat-0.7.3\n"
     ]
    }
   ],
   "source": [
    "#Install required packages\n",
    "!pip install scikit_learn gensim pyldavis textstat"
   ]
  },
  {
   "cell_type": "code",
   "execution_count": 10,
   "metadata": {},
   "outputs": [
    {
     "name": "stdout",
     "output_type": "stream",
     "text": [
      "Requirement already satisfied: pillow in /Users/ebuwa/opt/anaconda3/lib/python3.9/site-packages (9.0.1)\n",
      "Requirement already satisfied: nltk in /Users/ebuwa/opt/anaconda3/lib/python3.9/site-packages (3.7)\n",
      "Requirement already satisfied: wordcloud in /Users/ebuwa/opt/anaconda3/lib/python3.9/site-packages (1.8.2.2)\n",
      "Requirement already satisfied: spacy in /Users/ebuwa/opt/anaconda3/lib/python3.9/site-packages (3.4.0)\n",
      "Collecting emoji\n",
      "  Downloading emoji-2.0.0.tar.gz (197 kB)\n",
      "\u001b[K     |████████████████████████████████| 197 kB 4.0 MB/s eta 0:00:01\n",
      "\u001b[?25hRequirement already satisfied: pandas in /Users/ebuwa/opt/anaconda3/lib/python3.9/site-packages (1.4.2)\n",
      "Requirement already satisfied: regex>=2021.8.3 in /Users/ebuwa/opt/anaconda3/lib/python3.9/site-packages (from nltk) (2022.3.15)\n",
      "Requirement already satisfied: click in /Users/ebuwa/opt/anaconda3/lib/python3.9/site-packages (from nltk) (8.0.4)\n",
      "Requirement already satisfied: joblib in /Users/ebuwa/opt/anaconda3/lib/python3.9/site-packages (from nltk) (1.1.0)\n",
      "Requirement already satisfied: tqdm in /Users/ebuwa/opt/anaconda3/lib/python3.9/site-packages (from nltk) (4.64.0)\n",
      "Requirement already satisfied: numpy>=1.6.1 in /Users/ebuwa/opt/anaconda3/lib/python3.9/site-packages (from wordcloud) (1.21.5)\n",
      "Requirement already satisfied: matplotlib in /Users/ebuwa/opt/anaconda3/lib/python3.9/site-packages (from wordcloud) (3.5.1)\n",
      "Requirement already satisfied: spacy-legacy<3.1.0,>=3.0.9 in /Users/ebuwa/opt/anaconda3/lib/python3.9/site-packages (from spacy) (3.0.9)\n",
      "Requirement already satisfied: preshed<3.1.0,>=3.0.2 in /Users/ebuwa/opt/anaconda3/lib/python3.9/site-packages (from spacy) (3.0.6)\n",
      "Requirement already satisfied: srsly<3.0.0,>=2.4.3 in /Users/ebuwa/opt/anaconda3/lib/python3.9/site-packages (from spacy) (2.4.3)\n",
      "Requirement already satisfied: packaging>=20.0 in /Users/ebuwa/opt/anaconda3/lib/python3.9/site-packages (from spacy) (21.3)\n",
      "Requirement already satisfied: murmurhash<1.1.0,>=0.28.0 in /Users/ebuwa/opt/anaconda3/lib/python3.9/site-packages (from spacy) (1.0.7)\n",
      "Requirement already satisfied: langcodes<4.0.0,>=3.2.0 in /Users/ebuwa/opt/anaconda3/lib/python3.9/site-packages (from spacy) (3.3.0)\n",
      "Requirement already satisfied: pydantic!=1.8,!=1.8.1,<1.10.0,>=1.7.4 in /Users/ebuwa/opt/anaconda3/lib/python3.9/site-packages (from spacy) (1.9.1)\n",
      "Requirement already satisfied: requests<3.0.0,>=2.13.0 in /Users/ebuwa/opt/anaconda3/lib/python3.9/site-packages (from spacy) (2.27.1)\n",
      "Requirement already satisfied: typer<0.5.0,>=0.3.0 in /Users/ebuwa/opt/anaconda3/lib/python3.9/site-packages (from spacy) (0.4.2)\n",
      "Requirement already satisfied: cymem<2.1.0,>=2.0.2 in /Users/ebuwa/opt/anaconda3/lib/python3.9/site-packages (from spacy) (2.0.6)\n",
      "Requirement already satisfied: jinja2 in /Users/ebuwa/opt/anaconda3/lib/python3.9/site-packages (from spacy) (2.11.3)\n",
      "Requirement already satisfied: pathy>=0.3.5 in /Users/ebuwa/opt/anaconda3/lib/python3.9/site-packages (from spacy) (0.6.2)\n",
      "Requirement already satisfied: thinc<8.2.0,>=8.1.0 in /Users/ebuwa/opt/anaconda3/lib/python3.9/site-packages (from spacy) (8.1.0)\n",
      "Requirement already satisfied: setuptools in /Users/ebuwa/opt/anaconda3/lib/python3.9/site-packages (from spacy) (61.2.0)\n",
      "Requirement already satisfied: spacy-loggers<2.0.0,>=1.0.0 in /Users/ebuwa/opt/anaconda3/lib/python3.9/site-packages (from spacy) (1.0.3)\n",
      "Requirement already satisfied: wasabi<1.1.0,>=0.9.1 in /Users/ebuwa/opt/anaconda3/lib/python3.9/site-packages (from spacy) (0.9.1)\n",
      "Requirement already satisfied: catalogue<2.1.0,>=2.0.6 in /Users/ebuwa/opt/anaconda3/lib/python3.9/site-packages (from spacy) (2.0.7)\n",
      "Requirement already satisfied: python-dateutil>=2.8.1 in /Users/ebuwa/opt/anaconda3/lib/python3.9/site-packages (from pandas) (2.8.2)\n",
      "Requirement already satisfied: pytz>=2020.1 in /Users/ebuwa/opt/anaconda3/lib/python3.9/site-packages (from pandas) (2021.3)\n",
      "Requirement already satisfied: pyparsing!=3.0.5,>=2.0.2 in /Users/ebuwa/opt/anaconda3/lib/python3.9/site-packages (from packaging>=20.0->spacy) (3.0.4)\n",
      "Requirement already satisfied: smart-open<6.0.0,>=5.2.1 in /Users/ebuwa/opt/anaconda3/lib/python3.9/site-packages (from pathy>=0.3.5->spacy) (5.2.1)\n",
      "Requirement already satisfied: typing-extensions>=3.7.4.3 in /Users/ebuwa/opt/anaconda3/lib/python3.9/site-packages (from pydantic!=1.8,!=1.8.1,<1.10.0,>=1.7.4->spacy) (4.1.1)\n",
      "Requirement already satisfied: six>=1.5 in /Users/ebuwa/opt/anaconda3/lib/python3.9/site-packages (from python-dateutil>=2.8.1->pandas) (1.16.0)\n",
      "Requirement already satisfied: charset-normalizer~=2.0.0 in /Users/ebuwa/opt/anaconda3/lib/python3.9/site-packages (from requests<3.0.0,>=2.13.0->spacy) (2.0.4)\n",
      "Requirement already satisfied: idna<4,>=2.5 in /Users/ebuwa/opt/anaconda3/lib/python3.9/site-packages (from requests<3.0.0,>=2.13.0->spacy) (3.3)\n",
      "Requirement already satisfied: certifi>=2017.4.17 in /Users/ebuwa/opt/anaconda3/lib/python3.9/site-packages (from requests<3.0.0,>=2.13.0->spacy) (2021.10.8)\n",
      "Requirement already satisfied: urllib3<1.27,>=1.21.1 in /Users/ebuwa/opt/anaconda3/lib/python3.9/site-packages (from requests<3.0.0,>=2.13.0->spacy) (1.26.9)\n",
      "Requirement already satisfied: blis<0.8.0,>=0.7.8 in /Users/ebuwa/opt/anaconda3/lib/python3.9/site-packages (from thinc<8.2.0,>=8.1.0->spacy) (0.7.8)\n",
      "Requirement already satisfied: MarkupSafe>=0.23 in /Users/ebuwa/opt/anaconda3/lib/python3.9/site-packages (from jinja2->spacy) (2.0.1)\n",
      "Requirement already satisfied: kiwisolver>=1.0.1 in /Users/ebuwa/opt/anaconda3/lib/python3.9/site-packages (from matplotlib->wordcloud) (1.3.2)\n",
      "Requirement already satisfied: fonttools>=4.22.0 in /Users/ebuwa/opt/anaconda3/lib/python3.9/site-packages (from matplotlib->wordcloud) (4.25.0)\n",
      "Requirement already satisfied: cycler>=0.10 in /Users/ebuwa/opt/anaconda3/lib/python3.9/site-packages (from matplotlib->wordcloud) (0.11.0)\n",
      "Building wheels for collected packages: emoji\n",
      "  Building wheel for emoji (setup.py) ... \u001b[?25ldone\n",
      "\u001b[?25h  Created wheel for emoji: filename=emoji-2.0.0-py3-none-any.whl size=193022 sha256=87f56a95b0158fe403e9a350018c47b42a2f39ca8b685855f1f4de479ffb42e1\n",
      "  Stored in directory: /Users/ebuwa/Library/Caches/pip/wheels/0e/d1/c5/63b511b700c9da5a62bbfc758dd4a3fd9541df51b5db0694b0\n",
      "Successfully built emoji\n",
      "Installing collected packages: emoji\n",
      "Successfully installed emoji-2.0.0\n"
     ]
    }
   ],
   "source": [
    "#Install required packages\n",
    "!pip install pillow nltk wordcloud spacy emoji pandas\n"
   ]
  },
  {
   "cell_type": "code",
   "execution_count": 114,
   "metadata": {},
   "outputs": [
    {
     "name": "stderr",
     "output_type": "stream",
     "text": [
      "[nltk_data] Downloading package wordnet to /Users/ebuwa/nltk_data...\n",
      "[nltk_data]   Package wordnet is already up-to-date!\n",
      "[nltk_data] Downloading package stopwords to /Users/ebuwa/nltk_data...\n",
      "[nltk_data]   Package stopwords is already up-to-date!\n",
      "[nltk_data] Downloading package omw-1.4 to /Users/ebuwa/nltk_data...\n",
      "[nltk_data]   Package omw-1.4 is already up-to-date!\n",
      "[nltk_data] Downloading package punkt to /Users/ebuwa/nltk_data...\n",
      "[nltk_data]   Package punkt is already up-to-date!\n"
     ]
    }
   ],
   "source": [
    "#Import python packages\n",
    "import re\n",
    "import string\n",
    "import numpy as np \n",
    "import random\n",
    "import pandas as pd \n",
    "import matplotlib.pyplot as plt\n",
    "import seaborn as sns\n",
    "%matplotlib inline\n",
    "from plotly import graph_objs as go\n",
    "import plotly.express as px\n",
    "import plotly.figure_factory as ff\n",
    "from collections import Counter\n",
    "\n",
    "from PIL import Image\n",
    "from wordcloud import WordCloud, STOPWORDS, ImageColorGenerator\n",
    "\n",
    "\n",
    "import nltk\n",
    "from nltk.corpus import stopwords\n",
    "\n",
    "from tqdm import tqdm\n",
    "import os\n",
    "import nltk\n",
    "import spacy\n",
    "import random\n",
    "from spacy.util import compounding\n",
    "from spacy.util import minibatch\n",
    "\n",
    "import gensim\n",
    "import string\n",
    "import emoji\n",
    "import pandas as pd\n",
    "import re, string\n",
    "import nltk\n",
    "from nltk import word_tokenize\n",
    "from nltk.corpus import stopwords\n",
    "\n",
    "#Assign functions within nltk package\n",
    "ps = nltk.PorterStemmer()\n",
    "w_tokenizer = nltk.tokenize.WhitespaceTokenizer()\n",
    "lemmatizer = nltk.stem.WordNetLemmatizer()\n",
    "\n",
    "nltk.download(\"wordnet\")\n",
    "nltk.download(\"stopwords\")\n",
    "nltk.download(\"omw-1.4\")\n",
    "nltk.download(\"punkt\")\n",
    "\n",
    "stop_words = set(stopwords.words(\"english\"))\n",
    "\n",
    "import warnings\n",
    "warnings.filterwarnings(\"ignore\")\n",
    "\n",
    "import os\n",
    "# for dirname, _, filenames in os.walk('/kaggle/input'):\n",
    "#     for filename in filenames:\n",
    "#         print(os.path.join(dirname, filename))\n",
    "\n",
    "#"
   ]
  },
  {
   "cell_type": "markdown",
   "metadata": {},
   "source": [
    "### Read in SurgeAI csv as traindata"
   ]
  },
  {
   "cell_type": "code",
   "execution_count": 40,
   "metadata": {},
   "outputs": [],
   "source": [
    "#Import dataset and assign tweet_id as index column\n",
    "traindata = pd.read_csv(\"/Volumes/GoogleDrive/My Drive/Time at Brown School/Summer 2022/Correlation One Data Science for All/Resources/project31/data/train.csv\",\n",
    "                       index_col= \"tweet_id\")\n"
   ]
  },
  {
   "cell_type": "code",
   "execution_count": 41,
   "metadata": {
    "scrolled": false
   },
   "outputs": [
    {
     "data": {
      "text/html": [
       "<div>\n",
       "<style scoped>\n",
       "    .dataframe tbody tr th:only-of-type {\n",
       "        vertical-align: middle;\n",
       "    }\n",
       "\n",
       "    .dataframe tbody tr th {\n",
       "        vertical-align: top;\n",
       "    }\n",
       "\n",
       "    .dataframe thead th {\n",
       "        text-align: right;\n",
       "    }\n",
       "</style>\n",
       "<table border=\"1\" class=\"dataframe\">\n",
       "  <thead>\n",
       "    <tr style=\"text-align: right;\">\n",
       "      <th></th>\n",
       "      <th>worker_id</th>\n",
       "      <th>task_id</th>\n",
       "      <th>task_response_id</th>\n",
       "      <th>is_reviewed</th>\n",
       "      <th>review_score</th>\n",
       "      <th>text</th>\n",
       "      <th>username</th>\n",
       "      <th>bio</th>\n",
       "      <th>Categorize the tweet</th>\n",
       "    </tr>\n",
       "    <tr>\n",
       "      <th>tweet_id</th>\n",
       "      <th></th>\n",
       "      <th></th>\n",
       "      <th></th>\n",
       "      <th></th>\n",
       "      <th></th>\n",
       "      <th></th>\n",
       "      <th></th>\n",
       "      <th></th>\n",
       "      <th></th>\n",
       "    </tr>\n",
       "  </thead>\n",
       "  <tbody>\n",
       "    <tr>\n",
       "      <th>1540795861126352898</th>\n",
       "      <td>4TG67HVWJNDP</td>\n",
       "      <td>909fc038-d4fd-45f0-b849-d975760f163d</td>\n",
       "      <td>02dcb39a-c525-418a-9198-5c08d354935a</td>\n",
       "      <td>True</td>\n",
       "      <td>NaN</td>\n",
       "      <td>It getting pregnant endangers your life......\\...</td>\n",
       "      <td>AChristhope</td>\n",
       "      <td>Humankind is neither humane nor kind. Creator ...</td>\n",
       "      <td>Pro-life</td>\n",
       "    </tr>\n",
       "    <tr>\n",
       "      <th>1540784525864669186</th>\n",
       "      <td>2AZWNZRTVACE</td>\n",
       "      <td>0dcd0bda-127d-4b57-a479-08efc85fb902</td>\n",
       "      <td>031abcc4-deb2-42b2-8b36-979f77d006c6</td>\n",
       "      <td>False</td>\n",
       "      <td>NaN</td>\n",
       "      <td>@bluekat323 @leighmatsell @caambers @Robthefro...</td>\n",
       "      <td>LegalLatino2022</td>\n",
       "      <td>Left January 2021. Starting anew. Love all ani...</td>\n",
       "      <td>Pro-life</td>\n",
       "    </tr>\n",
       "    <tr>\n",
       "      <th>1540795218097688576</th>\n",
       "      <td>6CNHTCG6W6XM</td>\n",
       "      <td>8617b170-4d3a-4789-b020-c51c0ce1e7c9</td>\n",
       "      <td>035e1a0b-fec5-4c88-81a4-6a79ba4c1d2f</td>\n",
       "      <td>False</td>\n",
       "      <td>NaN</td>\n",
       "      <td>@JoeBiden Dont you have the power to make an e...</td>\n",
       "      <td>Sploiv</td>\n",
       "      <td>i dont fuckin know anymore</td>\n",
       "      <td>Pro-choice</td>\n",
       "    </tr>\n",
       "    <tr>\n",
       "      <th>1540795712610258944</th>\n",
       "      <td>7R2NKCJQNXPP</td>\n",
       "      <td>851318f8-7671-4f45-9a98-58ebe7013de1</td>\n",
       "      <td>037c1004-9dd9-4bce-a792-adffb278be86</td>\n",
       "      <td>False</td>\n",
       "      <td>NaN</td>\n",
       "      <td>https://t.co/2vL1gxc3P3</td>\n",
       "      <td>AuntyLush</td>\n",
       "      <td>Judge jury and old joyce ~~ She/her</td>\n",
       "      <td>Pro-choice</td>\n",
       "    </tr>\n",
       "    <tr>\n",
       "      <th>1540796129725427715</th>\n",
       "      <td>X6P6DQRXD62A</td>\n",
       "      <td>a42881d0-a01a-4c7c-acfa-9d21434b59b0</td>\n",
       "      <td>03d7bc4f-4fd0-4658-bf0f-3151150d6d41</td>\n",
       "      <td>False</td>\n",
       "      <td>NaN</td>\n",
       "      <td>The overturning of Roe was not an attack on wo...</td>\n",
       "      <td>parlermaid</td>\n",
       "      <td>NaN</td>\n",
       "      <td>Pro-life</td>\n",
       "    </tr>\n",
       "  </tbody>\n",
       "</table>\n",
       "</div>"
      ],
      "text/plain": [
       "                        worker_id                               task_id  \\\n",
       "tweet_id                                                                  \n",
       "1540795861126352898  4TG67HVWJNDP  909fc038-d4fd-45f0-b849-d975760f163d   \n",
       "1540784525864669186  2AZWNZRTVACE  0dcd0bda-127d-4b57-a479-08efc85fb902   \n",
       "1540795218097688576  6CNHTCG6W6XM  8617b170-4d3a-4789-b020-c51c0ce1e7c9   \n",
       "1540795712610258944  7R2NKCJQNXPP  851318f8-7671-4f45-9a98-58ebe7013de1   \n",
       "1540796129725427715  X6P6DQRXD62A  a42881d0-a01a-4c7c-acfa-9d21434b59b0   \n",
       "\n",
       "                                         task_response_id  is_reviewed  \\\n",
       "tweet_id                                                                 \n",
       "1540795861126352898  02dcb39a-c525-418a-9198-5c08d354935a         True   \n",
       "1540784525864669186  031abcc4-deb2-42b2-8b36-979f77d006c6        False   \n",
       "1540795218097688576  035e1a0b-fec5-4c88-81a4-6a79ba4c1d2f        False   \n",
       "1540795712610258944  037c1004-9dd9-4bce-a792-adffb278be86        False   \n",
       "1540796129725427715  03d7bc4f-4fd0-4658-bf0f-3151150d6d41        False   \n",
       "\n",
       "                     review_score  \\\n",
       "tweet_id                            \n",
       "1540795861126352898           NaN   \n",
       "1540784525864669186           NaN   \n",
       "1540795218097688576           NaN   \n",
       "1540795712610258944           NaN   \n",
       "1540796129725427715           NaN   \n",
       "\n",
       "                                                                  text  \\\n",
       "tweet_id                                                                 \n",
       "1540795861126352898  It getting pregnant endangers your life......\\...   \n",
       "1540784525864669186  @bluekat323 @leighmatsell @caambers @Robthefro...   \n",
       "1540795218097688576  @JoeBiden Dont you have the power to make an e...   \n",
       "1540795712610258944                            https://t.co/2vL1gxc3P3   \n",
       "1540796129725427715  The overturning of Roe was not an attack on wo...   \n",
       "\n",
       "                            username  \\\n",
       "tweet_id                               \n",
       "1540795861126352898      AChristhope   \n",
       "1540784525864669186  LegalLatino2022   \n",
       "1540795218097688576           Sploiv   \n",
       "1540795712610258944        AuntyLush   \n",
       "1540796129725427715       parlermaid   \n",
       "\n",
       "                                                                   bio  \\\n",
       "tweet_id                                                                 \n",
       "1540795861126352898  Humankind is neither humane nor kind. Creator ...   \n",
       "1540784525864669186  Left January 2021. Starting anew. Love all ani...   \n",
       "1540795218097688576                         i dont fuckin know anymore   \n",
       "1540795712610258944                Judge jury and old joyce ~~ She/her   \n",
       "1540796129725427715                                                NaN   \n",
       "\n",
       "                    Categorize the tweet  \n",
       "tweet_id                                  \n",
       "1540795861126352898             Pro-life  \n",
       "1540784525864669186             Pro-life  \n",
       "1540795218097688576           Pro-choice  \n",
       "1540795712610258944           Pro-choice  \n",
       "1540796129725427715             Pro-life  "
      ]
     },
     "execution_count": 41,
     "metadata": {},
     "output_type": "execute_result"
    }
   ],
   "source": [
    "#Inspect\n",
    "traindata.head()"
   ]
  },
  {
   "cell_type": "code",
   "execution_count": 42,
   "metadata": {},
   "outputs": [
    {
     "name": "stdout",
     "output_type": "stream",
     "text": [
      "(1025, 9)\n"
     ]
    }
   ],
   "source": [
    "#Inspect the dataset dimensions\n",
    "print(traindata.shape)"
   ]
  },
  {
   "cell_type": "code",
   "execution_count": 43,
   "metadata": {
    "scrolled": true
   },
   "outputs": [
    {
     "data": {
      "text/plain": [
       "Index(['worker_id', 'task_id', 'task_response_id', 'is_reviewed',\n",
       "       'review_score', 'text', 'username', 'bio', 'Categorize the tweet'],\n",
       "      dtype='object')"
      ]
     },
     "execution_count": 43,
     "metadata": {},
     "output_type": "execute_result"
    }
   ],
   "source": [
    "#Inspect column labels\n",
    "traindata.columns"
   ]
  },
  {
   "cell_type": "code",
   "execution_count": 44,
   "metadata": {},
   "outputs": [
    {
     "data": {
      "text/plain": [
       "worker_id                  0\n",
       "task_id                    0\n",
       "task_response_id           0\n",
       "is_reviewed                0\n",
       "review_score            1025\n",
       "text                       0\n",
       "username                   0\n",
       "bio                      159\n",
       "Categorize the tweet       0\n",
       "dtype: int64"
      ]
     },
     "execution_count": 44,
     "metadata": {},
     "output_type": "execute_result"
    }
   ],
   "source": [
    "# Identify and count missing values by column\n",
    "traindata.apply(pd.isnull).sum()\n"
   ]
  },
  {
   "cell_type": "code",
   "execution_count": 45,
   "metadata": {
    "scrolled": true
   },
   "outputs": [
    {
     "data": {
      "text/plain": [
       "worker_id               0.000000\n",
       "task_id                 0.000000\n",
       "task_response_id        0.000000\n",
       "is_reviewed             0.000000\n",
       "review_score            1.000000\n",
       "text                    0.000000\n",
       "username                0.000000\n",
       "bio                     0.155122\n",
       "Categorize the tweet    0.000000\n",
       "dtype: float64"
      ]
     },
     "execution_count": 45,
     "metadata": {},
     "output_type": "execute_result"
    }
   ],
   "source": [
    "# Identify and count missing values by column (expressed as percentages)\n",
    "traindata.apply(pd.isnull).sum()/traindata.shape[0]\n"
   ]
  },
  {
   "cell_type": "markdown",
   "metadata": {},
   "source": [
    "# DATA MANIPULATION"
   ]
  },
  {
   "cell_type": "markdown",
   "metadata": {},
   "source": [
    "# Subset analytical variables "
   ]
  },
  {
   "cell_type": "code",
   "execution_count": 46,
   "metadata": {},
   "outputs": [],
   "source": [
    "df = traindata[[\"is_reviewed\",\"text\", \"username\", \"bio\", \"Categorize the tweet\"]]"
   ]
  },
  {
   "cell_type": "code",
   "execution_count": 47,
   "metadata": {},
   "outputs": [],
   "source": [
    "df = df.rename(columns = {\"Categorize the tweet\": \"sentiments\"})"
   ]
  },
  {
   "cell_type": "code",
   "execution_count": 48,
   "metadata": {
    "scrolled": true
   },
   "outputs": [
    {
     "data": {
      "text/html": [
       "<div>\n",
       "<style scoped>\n",
       "    .dataframe tbody tr th:only-of-type {\n",
       "        vertical-align: middle;\n",
       "    }\n",
       "\n",
       "    .dataframe tbody tr th {\n",
       "        vertical-align: top;\n",
       "    }\n",
       "\n",
       "    .dataframe thead th {\n",
       "        text-align: right;\n",
       "    }\n",
       "</style>\n",
       "<table border=\"1\" class=\"dataframe\">\n",
       "  <thead>\n",
       "    <tr style=\"text-align: right;\">\n",
       "      <th></th>\n",
       "      <th>is_reviewed</th>\n",
       "      <th>text</th>\n",
       "      <th>username</th>\n",
       "      <th>bio</th>\n",
       "      <th>sentiments</th>\n",
       "    </tr>\n",
       "  </thead>\n",
       "  <tbody>\n",
       "    <tr>\n",
       "      <th>count</th>\n",
       "      <td>1025</td>\n",
       "      <td>1025</td>\n",
       "      <td>1025</td>\n",
       "      <td>866</td>\n",
       "      <td>1025</td>\n",
       "    </tr>\n",
       "    <tr>\n",
       "      <th>unique</th>\n",
       "      <td>2</td>\n",
       "      <td>1025</td>\n",
       "      <td>1024</td>\n",
       "      <td>865</td>\n",
       "      <td>2</td>\n",
       "    </tr>\n",
       "    <tr>\n",
       "      <th>top</th>\n",
       "      <td>False</td>\n",
       "      <td>It getting pregnant endangers your life......\\...</td>\n",
       "      <td>Chrismikoichi</td>\n",
       "      <td>looking to build up a following . I'll follow ...</td>\n",
       "      <td>Pro-choice</td>\n",
       "    </tr>\n",
       "    <tr>\n",
       "      <th>freq</th>\n",
       "      <td>1014</td>\n",
       "      <td>1</td>\n",
       "      <td>2</td>\n",
       "      <td>2</td>\n",
       "      <td>744</td>\n",
       "    </tr>\n",
       "  </tbody>\n",
       "</table>\n",
       "</div>"
      ],
      "text/plain": [
       "       is_reviewed                                               text  \\\n",
       "count         1025                                               1025   \n",
       "unique           2                                               1025   \n",
       "top          False  It getting pregnant endangers your life......\\...   \n",
       "freq          1014                                                  1   \n",
       "\n",
       "             username                                                bio  \\\n",
       "count            1025                                                866   \n",
       "unique           1024                                                865   \n",
       "top     Chrismikoichi  looking to build up a following . I'll follow ...   \n",
       "freq                2                                                  2   \n",
       "\n",
       "        sentiments  \n",
       "count         1025  \n",
       "unique           2  \n",
       "top     Pro-choice  \n",
       "freq           744  "
      ]
     },
     "execution_count": 48,
     "metadata": {},
     "output_type": "execute_result"
    }
   ],
   "source": [
    "df.describe()"
   ]
  },
  {
   "cell_type": "code",
   "execution_count": 50,
   "metadata": {},
   "outputs": [
    {
     "name": "stdout",
     "output_type": "stream",
     "text": [
      "<class 'pandas.core.frame.DataFrame'>\n",
      "Int64Index: 1025 entries, 1540795861126352898 to 1540796104039510017\n",
      "Data columns (total 5 columns):\n",
      " #   Column       Non-Null Count  Dtype \n",
      "---  ------       --------------  ----- \n",
      " 0   is_reviewed  1025 non-null   bool  \n",
      " 1   text         1025 non-null   object\n",
      " 2   username     1025 non-null   object\n",
      " 3   bio          866 non-null    object\n",
      " 4   sentiments   1025 non-null   object\n",
      "dtypes: bool(1), object(4)\n",
      "memory usage: 41.0+ KB\n"
     ]
    }
   ],
   "source": [
    "df.info()\n",
    "#there are a lot of null values in the \"bio\" variable"
   ]
  },
  {
   "cell_type": "code",
   "execution_count": 74,
   "metadata": {},
   "outputs": [
    {
     "data": {
      "text/html": [
       "<div>\n",
       "<style scoped>\n",
       "    .dataframe tbody tr th:only-of-type {\n",
       "        vertical-align: middle;\n",
       "    }\n",
       "\n",
       "    .dataframe tbody tr th {\n",
       "        vertical-align: top;\n",
       "    }\n",
       "\n",
       "    .dataframe thead th {\n",
       "        text-align: right;\n",
       "    }\n",
       "</style>\n",
       "<table border=\"1\" class=\"dataframe\">\n",
       "  <thead>\n",
       "    <tr style=\"text-align: right;\">\n",
       "      <th></th>\n",
       "      <th>is_reviewed</th>\n",
       "      <th>text</th>\n",
       "      <th>username</th>\n",
       "      <th>bio</th>\n",
       "      <th>sentiments</th>\n",
       "      <th>Num_word_text</th>\n",
       "    </tr>\n",
       "    <tr>\n",
       "      <th>tweet_id</th>\n",
       "      <th></th>\n",
       "      <th></th>\n",
       "      <th></th>\n",
       "      <th></th>\n",
       "      <th></th>\n",
       "      <th></th>\n",
       "    </tr>\n",
       "  </thead>\n",
       "  <tbody>\n",
       "    <tr>\n",
       "      <th>1540796129725427715</th>\n",
       "      <td>False</td>\n",
       "      <td>The overturning of Roe was not an attack on wo...</td>\n",
       "      <td>parlermaid</td>\n",
       "      <td>NaN</td>\n",
       "      <td>Pro-life</td>\n",
       "      <td>21</td>\n",
       "    </tr>\n",
       "    <tr>\n",
       "      <th>1540796064650903552</th>\n",
       "      <td>False</td>\n",
       "      <td>@DarkNookShop @Cubs_Michael @GoodManOnceSaid @...</td>\n",
       "      <td>bankiemag</td>\n",
       "      <td>NaN</td>\n",
       "      <td>Pro-life</td>\n",
       "      <td>16</td>\n",
       "    </tr>\n",
       "    <tr>\n",
       "      <th>1540795950876315648</th>\n",
       "      <td>False</td>\n",
       "      <td>@D_B_Harrison Very similar to the White Pastor...</td>\n",
       "      <td>RizNJ</td>\n",
       "      <td>NaN</td>\n",
       "      <td>Pro-choice</td>\n",
       "      <td>20</td>\n",
       "    </tr>\n",
       "    <tr>\n",
       "      <th>1540795858748428288</th>\n",
       "      <td>False</td>\n",
       "      <td>@kxntie @karlarod_ So you say \"where people ca...</td>\n",
       "      <td>stevencrouch211</td>\n",
       "      <td>NaN</td>\n",
       "      <td>Pro-choice</td>\n",
       "      <td>20</td>\n",
       "    </tr>\n",
       "    <tr>\n",
       "      <th>1540795946589626368</th>\n",
       "      <td>False</td>\n",
       "      <td>@RepValDemings How did you become a mother and...</td>\n",
       "      <td>ChaWheelman</td>\n",
       "      <td>NaN</td>\n",
       "      <td>Pro-life</td>\n",
       "      <td>16</td>\n",
       "    </tr>\n",
       "    <tr>\n",
       "      <th>...</th>\n",
       "      <td>...</td>\n",
       "      <td>...</td>\n",
       "      <td>...</td>\n",
       "      <td>...</td>\n",
       "      <td>...</td>\n",
       "      <td>...</td>\n",
       "    </tr>\n",
       "    <tr>\n",
       "      <th>1540794407515000833</th>\n",
       "      <td>False</td>\n",
       "      <td>@ShotoSimp98 @SassyValkyrie @Snowy_Doe @war_up...</td>\n",
       "      <td>mafia2198</td>\n",
       "      <td>NaN</td>\n",
       "      <td>Pro-life</td>\n",
       "      <td>13</td>\n",
       "    </tr>\n",
       "    <tr>\n",
       "      <th>1540796033109590018</th>\n",
       "      <td>False</td>\n",
       "      <td>@BigEcavin @FekoLand @BBCWorld And let’s get o...</td>\n",
       "      <td>Okbutwhytho5</td>\n",
       "      <td>NaN</td>\n",
       "      <td>Pro-choice</td>\n",
       "      <td>19</td>\n",
       "    </tr>\n",
       "    <tr>\n",
       "      <th>1540796110234681344</th>\n",
       "      <td>False</td>\n",
       "      <td>@LeahKonen To those who say that you shouldn’t...</td>\n",
       "      <td>crisscrossdude</td>\n",
       "      <td>NaN</td>\n",
       "      <td>Pro-choice</td>\n",
       "      <td>24</td>\n",
       "    </tr>\n",
       "    <tr>\n",
       "      <th>1540795787084529667</th>\n",
       "      <td>False</td>\n",
       "      <td>Alito was on the appellate court that upheld a...</td>\n",
       "      <td>Man_In_Gray</td>\n",
       "      <td>NaN</td>\n",
       "      <td>Pro-choice</td>\n",
       "      <td>18</td>\n",
       "    </tr>\n",
       "    <tr>\n",
       "      <th>1540795262490247168</th>\n",
       "      <td>False</td>\n",
       "      <td>this WOMAN voted for trump TWICE and is compla...</td>\n",
       "      <td>paulafledd</td>\n",
       "      <td>NaN</td>\n",
       "      <td>Pro-choice</td>\n",
       "      <td>23</td>\n",
       "    </tr>\n",
       "  </tbody>\n",
       "</table>\n",
       "<p>159 rows × 6 columns</p>\n",
       "</div>"
      ],
      "text/plain": [
       "                     is_reviewed  \\\n",
       "tweet_id                           \n",
       "1540796129725427715        False   \n",
       "1540796064650903552        False   \n",
       "1540795950876315648        False   \n",
       "1540795858748428288        False   \n",
       "1540795946589626368        False   \n",
       "...                          ...   \n",
       "1540794407515000833        False   \n",
       "1540796033109590018        False   \n",
       "1540796110234681344        False   \n",
       "1540795787084529667        False   \n",
       "1540795262490247168        False   \n",
       "\n",
       "                                                                  text  \\\n",
       "tweet_id                                                                 \n",
       "1540796129725427715  The overturning of Roe was not an attack on wo...   \n",
       "1540796064650903552  @DarkNookShop @Cubs_Michael @GoodManOnceSaid @...   \n",
       "1540795950876315648  @D_B_Harrison Very similar to the White Pastor...   \n",
       "1540795858748428288  @kxntie @karlarod_ So you say \"where people ca...   \n",
       "1540795946589626368  @RepValDemings How did you become a mother and...   \n",
       "...                                                                ...   \n",
       "1540794407515000833  @ShotoSimp98 @SassyValkyrie @Snowy_Doe @war_up...   \n",
       "1540796033109590018  @BigEcavin @FekoLand @BBCWorld And let’s get o...   \n",
       "1540796110234681344  @LeahKonen To those who say that you shouldn’t...   \n",
       "1540795787084529667  Alito was on the appellate court that upheld a...   \n",
       "1540795262490247168  this WOMAN voted for trump TWICE and is compla...   \n",
       "\n",
       "                            username  bio  sentiments  Num_word_text  \n",
       "tweet_id                                                              \n",
       "1540796129725427715       parlermaid  NaN    Pro-life             21  \n",
       "1540796064650903552        bankiemag  NaN    Pro-life             16  \n",
       "1540795950876315648            RizNJ  NaN  Pro-choice             20  \n",
       "1540795858748428288  stevencrouch211  NaN  Pro-choice             20  \n",
       "1540795946589626368      ChaWheelman  NaN    Pro-life             16  \n",
       "...                              ...  ...         ...            ...  \n",
       "1540794407515000833        mafia2198  NaN    Pro-life             13  \n",
       "1540796033109590018     Okbutwhytho5  NaN  Pro-choice             19  \n",
       "1540796110234681344   crisscrossdude  NaN  Pro-choice             24  \n",
       "1540795787084529667      Man_In_Gray  NaN  Pro-choice             18  \n",
       "1540795262490247168       paulafledd  NaN  Pro-choice             23  \n",
       "\n",
       "[159 rows x 6 columns]"
      ]
     },
     "execution_count": 74,
     "metadata": {},
     "output_type": "execute_result"
    }
   ],
   "source": [
    "#Inspect rows where \"bio\" is null (missing)\n",
    "df[pd.isnull(df[\"bio\"])]"
   ]
  },
  {
   "cell_type": "code",
   "execution_count": 69,
   "metadata": {},
   "outputs": [],
   "source": [
    "#Subset a df_bio, a dataframe with missing bio observations only\n",
    "df_bio = df[pd.isnull(df[\"bio\"])].copy()"
   ]
  },
  {
   "cell_type": "code",
   "execution_count": 73,
   "metadata": {},
   "outputs": [
    {
     "name": "stdout",
     "output_type": "stream",
     "text": [
      "<class 'pandas.core.frame.DataFrame'>\n",
      "Int64Index: 159 entries, 1540796129725427715 to 1540795262490247168\n",
      "Data columns (total 6 columns):\n",
      " #   Column         Non-Null Count  Dtype \n",
      "---  ------         --------------  ----- \n",
      " 0   is_reviewed    159 non-null    bool  \n",
      " 1   text           159 non-null    object\n",
      " 2   username       159 non-null    object\n",
      " 3   bio            0 non-null      object\n",
      " 4   sentiments     159 non-null    object\n",
      " 5   Num_word_text  159 non-null    int64 \n",
      "dtypes: bool(1), int64(1), object(4)\n",
      "memory usage: 7.6+ KB\n"
     ]
    }
   ],
   "source": [
    "#Inspect\n",
    "df_bio.info()"
   ]
  },
  {
   "cell_type": "code",
   "execution_count": 76,
   "metadata": {},
   "outputs": [
    {
     "name": "stdout",
     "output_type": "stream",
     "text": [
      "   sentiments  text\n",
      "0  Pro-choice    91\n",
      "1    Pro-life    68\n"
     ]
    }
   ],
   "source": [
    "#Group tweets by sentiment and count, assign as object biotemp\n",
    "biotemp = df_bio.groupby(\"sentiments\").count()[\"text\"].reset_index().sort_values(by=\"text\",ascending=False)\n",
    "print(biotemp)"
   ]
  },
  {
   "cell_type": "code",
   "execution_count": 77,
   "metadata": {
    "scrolled": true
   },
   "outputs": [
    {
     "data": {
      "text/html": [
       "<style type=\"text/css\">\n",
       "#T_1ffdd_row0_col1 {\n",
       "  background-color: #3f007d;\n",
       "  color: #f1f1f1;\n",
       "}\n",
       "#T_1ffdd_row1_col1 {\n",
       "  background-color: #fcfbfd;\n",
       "  color: #000000;\n",
       "}\n",
       "</style>\n",
       "<table id=\"T_1ffdd\">\n",
       "  <thead>\n",
       "    <tr>\n",
       "      <th class=\"blank level0\" >&nbsp;</th>\n",
       "      <th id=\"T_1ffdd_level0_col0\" class=\"col_heading level0 col0\" >sentiments</th>\n",
       "      <th id=\"T_1ffdd_level0_col1\" class=\"col_heading level0 col1\" >text</th>\n",
       "    </tr>\n",
       "  </thead>\n",
       "  <tbody>\n",
       "    <tr>\n",
       "      <th id=\"T_1ffdd_level0_row0\" class=\"row_heading level0 row0\" >0</th>\n",
       "      <td id=\"T_1ffdd_row0_col0\" class=\"data row0 col0\" >Pro-choice</td>\n",
       "      <td id=\"T_1ffdd_row0_col1\" class=\"data row0 col1\" >91</td>\n",
       "    </tr>\n",
       "    <tr>\n",
       "      <th id=\"T_1ffdd_level0_row1\" class=\"row_heading level0 row1\" >1</th>\n",
       "      <td id=\"T_1ffdd_row1_col0\" class=\"data row1 col0\" >Pro-life</td>\n",
       "      <td id=\"T_1ffdd_row1_col1\" class=\"data row1 col1\" >68</td>\n",
       "    </tr>\n",
       "  </tbody>\n",
       "</table>\n"
      ],
      "text/plain": [
       "<pandas.io.formats.style.Styler at 0x7fa3b407aeb0>"
      ]
     },
     "execution_count": 77,
     "metadata": {},
     "output_type": "execute_result"
    }
   ],
   "source": [
    "# Examine distribution of tweets in biotemp object, color coded\n",
    "biotemp.style.background_gradient(cmap= \"Purples\") # Most of the tweets with missing bios tweet are pro-choice\n",
    "#Question: How do we proceed with this information? "
   ]
  },
  {
   "cell_type": "markdown",
   "metadata": {},
   "source": [
    "# Analyzing Text Statistics"
   ]
  },
  {
   "cell_type": "markdown",
   "metadata": {},
   "source": [
    "## Frequency counts by sentiment "
   ]
  },
  {
   "cell_type": "code",
   "execution_count": 49,
   "metadata": {},
   "outputs": [
    {
     "name": "stdout",
     "output_type": "stream",
     "text": [
      "   sentiments  text\n",
      "0  Pro-choice   744\n",
      "1    Pro-life   281\n"
     ]
    }
   ],
   "source": [
    "temp = df.groupby(\"sentiments\").count()[\"text\"].reset_index().sort_values(by=\"text\",ascending=False)\n",
    "print(temp)"
   ]
  },
  {
   "cell_type": "code",
   "execution_count": 51,
   "metadata": {},
   "outputs": [
    {
     "data": {
      "text/html": [
       "<style type=\"text/css\">\n",
       "#T_a5c7a_row0_col1 {\n",
       "  background-color: #3f007d;\n",
       "  color: #f1f1f1;\n",
       "}\n",
       "#T_a5c7a_row1_col1 {\n",
       "  background-color: #fcfbfd;\n",
       "  color: #000000;\n",
       "}\n",
       "</style>\n",
       "<table id=\"T_a5c7a\">\n",
       "  <thead>\n",
       "    <tr>\n",
       "      <th class=\"blank level0\" >&nbsp;</th>\n",
       "      <th id=\"T_a5c7a_level0_col0\" class=\"col_heading level0 col0\" >sentiments</th>\n",
       "      <th id=\"T_a5c7a_level0_col1\" class=\"col_heading level0 col1\" >text</th>\n",
       "    </tr>\n",
       "  </thead>\n",
       "  <tbody>\n",
       "    <tr>\n",
       "      <th id=\"T_a5c7a_level0_row0\" class=\"row_heading level0 row0\" >0</th>\n",
       "      <td id=\"T_a5c7a_row0_col0\" class=\"data row0 col0\" >Pro-choice</td>\n",
       "      <td id=\"T_a5c7a_row0_col1\" class=\"data row0 col1\" >744</td>\n",
       "    </tr>\n",
       "    <tr>\n",
       "      <th id=\"T_a5c7a_level0_row1\" class=\"row_heading level0 row1\" >1</th>\n",
       "      <td id=\"T_a5c7a_row1_col0\" class=\"data row1 col0\" >Pro-life</td>\n",
       "      <td id=\"T_a5c7a_row1_col1\" class=\"data row1 col1\" >281</td>\n",
       "    </tr>\n",
       "  </tbody>\n",
       "</table>\n"
      ],
      "text/plain": [
       "<pandas.io.formats.style.Styler at 0x7fa3b1976af0>"
      ]
     },
     "execution_count": 51,
     "metadata": {},
     "output_type": "execute_result"
    }
   ],
   "source": [
    "# Examine distribution of tweets, color coded\n",
    "temp.style.background_gradient(cmap= \"Purples\")"
   ]
  },
  {
   "cell_type": "code",
   "execution_count": 55,
   "metadata": {},
   "outputs": [
    {
     "data": {
      "text/plain": [
       "Text(0.5, 1.0, 'Abortion Sentiments by Tweet Count')"
      ]
     },
     "execution_count": 55,
     "metadata": {},
     "output_type": "execute_result"
    },
    {
     "data": {
      "image/png": "[encoded data removed]",
      "text/plain": [
       "<Figure size 864x432 with 1 Axes>"
      ]
     },
     "metadata": {
      "needs_background": "light"
     },
     "output_type": "display_data"
    }
   ],
   "source": [
    "#Plot bar chart\n",
    "plt.figure(figsize=(12,6))\n",
    "plot = sns.countplot(x=\"sentiments\",data=df)\n",
    "plot.set_title(\"Abortion Sentiments by Tweet Count\")"
   ]
  },
  {
   "cell_type": "code",
   "execution_count": 58,
   "metadata": {},
   "outputs": [
    {
     "data": {
      "application/vnd.plotly.v1+json": {
       "config": {
        "plotlyServerURL": "https://plot.ly"
       },
       "data": [
        {
         "text": [
          "Pro-choice",
          "Pro-life"
         ],
         "title": {
          "position": "top center",
          "text": "Funnel Chart of Sentiment Distribution by Tweet Count"
         },
         "type": "funnelarea",
         "values": [
          744,
          281
         ]
        }
       ],
       "layout": {
        "template": {
         "data": {
          "bar": [
           {
            "error_x": {
             "color": "#2a3f5f"
            },
            "error_y": {
             "color": "#2a3f5f"
            },
            "marker": {
             "line": {
              "color": "#E5ECF6",
              "width": 0.5
             },
             "pattern": {
              "fillmode": "overlay",
              "size": 10,
              "solidity": 0.2
             }
            },
            "type": "bar"
           }
          ],
          "barpolar": [
           {
            "marker": {
             "line": {
              "color": "#E5ECF6",
              "width": 0.5
             },
             "pattern": {
              "fillmode": "overlay",
              "size": 10,
              "solidity": 0.2
             }
            },
            "type": "barpolar"
           }
          ],
          "carpet": [
           {
            "aaxis": {
             "endlinecolor": "#2a3f5f",
             "gridcolor": "white",
             "linecolor": "white",
             "minorgridcolor": "white",
             "startlinecolor": "#2a3f5f"
            },
            "baxis": {
             "endlinecolor": "#2a3f5f",
             "gridcolor": "white",
             "linecolor": "white",
             "minorgridcolor": "white",
             "startlinecolor": "#2a3f5f"
            },
            "type": "carpet"
           }
          ],
          "choropleth": [
           {
            "colorbar": {
             "outlinewidth": 0,
             "ticks": ""
            },
            "type": "choropleth"
           }
          ],
          "contour": [
           {
            "colorbar": {
             "outlinewidth": 0,
             "ticks": ""
            },
            "colorscale": [
             [
              0,
              "#0d0887"
             ],
             [
              0.1111111111111111,
              "#46039f"
             ],
             [
              0.2222222222222222,
              "#7201a8"
             ],
             [
              0.3333333333333333,
              "#9c179e"
             ],
             [
              0.4444444444444444,
              "#bd3786"
             ],
             [
              0.5555555555555556,
              "#d8576b"
             ],
             [
              0.6666666666666666,
              "#ed7953"
             ],
             [
              0.7777777777777778,
              "#fb9f3a"
             ],
             [
              0.8888888888888888,
              "#fdca26"
             ],
             [
              1,
              "#f0f921"
             ]
            ],
            "type": "contour"
           }
          ],
          "contourcarpet": [
           {
            "colorbar": {
             "outlinewidth": 0,
             "ticks": ""
            },
            "type": "contourcarpet"
           }
          ],
          "heatmap": [
           {
            "colorbar": {
             "outlinewidth": 0,
             "ticks": ""
            },
            "colorscale": [
             [
              0,
              "#0d0887"
             ],
             [
              0.1111111111111111,
              "#46039f"
             ],
             [
              0.2222222222222222,
              "#7201a8"
             ],
             [
              0.3333333333333333,
              "#9c179e"
             ],
             [
              0.4444444444444444,
              "#bd3786"
             ],
             [
              0.5555555555555556,
              "#d8576b"
             ],
             [
              0.6666666666666666,
              "#ed7953"
             ],
             [
              0.7777777777777778,
              "#fb9f3a"
             ],
             [
              0.8888888888888888,
              "#fdca26"
             ],
             [
              1,
              "#f0f921"
             ]
            ],
            "type": "heatmap"
           }
          ],
          "heatmapgl": [
           {
            "colorbar": {
             "outlinewidth": 0,
             "ticks": ""
            },
            "colorscale": [
             [
              0,
              "#0d0887"
             ],
             [
              0.1111111111111111,
              "#46039f"
             ],
             [
              0.2222222222222222,
              "#7201a8"
             ],
             [
              0.3333333333333333,
              "#9c179e"
             ],
             [
              0.4444444444444444,
              "#bd3786"
             ],
             [
              0.5555555555555556,
              "#d8576b"
             ],
             [
              0.6666666666666666,
              "#ed7953"
             ],
             [
              0.7777777777777778,
              "#fb9f3a"
             ],
             [
              0.8888888888888888,
              "#fdca26"
             ],
             [
              1,
              "#f0f921"
             ]
            ],
            "type": "heatmapgl"
           }
          ],
          "histogram": [
           {
            "marker": {
             "pattern": {
              "fillmode": "overlay",
              "size": 10,
              "solidity": 0.2
             }
            },
            "type": "histogram"
           }
          ],
          "histogram2d": [
           {
            "colorbar": {
             "outlinewidth": 0,
             "ticks": ""
            },
            "colorscale": [
             [
              0,
              "#0d0887"
             ],
             [
              0.1111111111111111,
              "#46039f"
             ],
             [
              0.2222222222222222,
              "#7201a8"
             ],
             [
              0.3333333333333333,
              "#9c179e"
             ],
             [
              0.4444444444444444,
              "#bd3786"
             ],
             [
              0.5555555555555556,
              "#d8576b"
             ],
             [
              0.6666666666666666,
              "#ed7953"
             ],
             [
              0.7777777777777778,
              "#fb9f3a"
             ],
             [
              0.8888888888888888,
              "#fdca26"
             ],
             [
              1,
              "#f0f921"
             ]
            ],
            "type": "histogram2d"
           }
          ],
          "histogram2dcontour": [
           {
            "colorbar": {
             "outlinewidth": 0,
             "ticks": ""
            },
            "colorscale": [
             [
              0,
              "#0d0887"
             ],
             [
              0.1111111111111111,
              "#46039f"
             ],
             [
              0.2222222222222222,
              "#7201a8"
             ],
             [
              0.3333333333333333,
              "#9c179e"
             ],
             [
              0.4444444444444444,
              "#bd3786"
             ],
             [
              0.5555555555555556,
              "#d8576b"
             ],
             [
              0.6666666666666666,
              "#ed7953"
             ],
             [
              0.7777777777777778,
              "#fb9f3a"
             ],
             [
              0.8888888888888888,
              "#fdca26"
             ],
             [
              1,
              "#f0f921"
             ]
            ],
            "type": "histogram2dcontour"
           }
          ],
          "mesh3d": [
           {
            "colorbar": {
             "outlinewidth": 0,
             "ticks": ""
            },
            "type": "mesh3d"
           }
          ],
          "parcoords": [
           {
            "line": {
             "colorbar": {
              "outlinewidth": 0,
              "ticks": ""
             }
            },
            "type": "parcoords"
           }
          ],
          "pie": [
           {
            "automargin": true,
            "type": "pie"
           }
          ],
          "scatter": [
           {
            "marker": {
             "colorbar": {
              "outlinewidth": 0,
              "ticks": ""
             }
            },
            "type": "scatter"
           }
          ],
          "scatter3d": [
           {
            "line": {
             "colorbar": {
              "outlinewidth": 0,
              "ticks": ""
             }
            },
            "marker": {
             "colorbar": {
              "outlinewidth": 0,
              "ticks": ""
             }
            },
            "type": "scatter3d"
           }
          ],
          "scattercarpet": [
           {
            "marker": {
             "colorbar": {
              "outlinewidth": 0,
              "ticks": ""
             }
            },
            "type": "scattercarpet"
           }
          ],
          "scattergeo": [
           {
            "marker": {
             "colorbar": {
              "outlinewidth": 0,
              "ticks": ""
             }
            },
            "type": "scattergeo"
           }
          ],
          "scattergl": [
           {
            "marker": {
             "colorbar": {
              "outlinewidth": 0,
              "ticks": ""
             }
            },
            "type": "scattergl"
           }
          ],
          "scattermapbox": [
           {
            "marker": {
             "colorbar": {
              "outlinewidth": 0,
              "ticks": ""
             }
            },
            "type": "scattermapbox"
           }
          ],
          "scatterpolar": [
           {
            "marker": {
             "colorbar": {
              "outlinewidth": 0,
              "ticks": ""
             }
            },
            "type": "scatterpolar"
           }
          ],
          "scatterpolargl": [
           {
            "marker": {
             "colorbar": {
              "outlinewidth": 0,
              "ticks": ""
             }
            },
            "type": "scatterpolargl"
           }
          ],
          "scatterternary": [
           {
            "marker": {
             "colorbar": {
              "outlinewidth": 0,
              "ticks": ""
             }
            },
            "type": "scatterternary"
           }
          ],
          "surface": [
           {
            "colorbar": {
             "outlinewidth": 0,
             "ticks": ""
            },
            "colorscale": [
             [
              0,
              "#0d0887"
             ],
             [
              0.1111111111111111,
              "#46039f"
             ],
             [
              0.2222222222222222,
              "#7201a8"
             ],
             [
              0.3333333333333333,
              "#9c179e"
             ],
             [
              0.4444444444444444,
              "#bd3786"
             ],
             [
              0.5555555555555556,
              "#d8576b"
             ],
             [
              0.6666666666666666,
              "#ed7953"
             ],
             [
              0.7777777777777778,
              "#fb9f3a"
             ],
             [
              0.8888888888888888,
              "#fdca26"
             ],
             [
              1,
              "#f0f921"
             ]
            ],
            "type": "surface"
           }
          ],
          "table": [
           {
            "cells": {
             "fill": {
              "color": "#EBF0F8"
             },
             "line": {
              "color": "white"
             }
            },
            "header": {
             "fill": {
              "color": "#C8D4E3"
             },
             "line": {
              "color": "white"
             }
            },
            "type": "table"
           }
          ]
         },
         "layout": {
          "annotationdefaults": {
           "arrowcolor": "#2a3f5f",
           "arrowhead": 0,
           "arrowwidth": 1
          },
          "autotypenumbers": "strict",
          "coloraxis": {
           "colorbar": {
            "outlinewidth": 0,
            "ticks": ""
           }
          },
          "colorscale": {
           "diverging": [
            [
             0,
             "#8e0152"
            ],
            [
             0.1,
             "#c51b7d"
            ],
            [
             0.2,
             "#de77ae"
            ],
            [
             0.3,
             "#f1b6da"
            ],
            [
             0.4,
             "#fde0ef"
            ],
            [
             0.5,
             "#f7f7f7"
            ],
            [
             0.6,
             "#e6f5d0"
            ],
            [
             0.7,
             "#b8e186"
            ],
            [
             0.8,
             "#7fbc41"
            ],
            [
             0.9,
             "#4d9221"
            ],
            [
             1,
             "#276419"
            ]
           ],
           "sequential": [
            [
             0,
             "#0d0887"
            ],
            [
             0.1111111111111111,
             "#46039f"
            ],
            [
             0.2222222222222222,
             "#7201a8"
            ],
            [
             0.3333333333333333,
             "#9c179e"
            ],
            [
             0.4444444444444444,
             "#bd3786"
            ],
            [
             0.5555555555555556,
             "#d8576b"
            ],
            [
             0.6666666666666666,
             "#ed7953"
            ],
            [
             0.7777777777777778,
             "#fb9f3a"
            ],
            [
             0.8888888888888888,
             "#fdca26"
            ],
            [
             1,
             "#f0f921"
            ]
           ],
           "sequentialminus": [
            [
             0,
             "#0d0887"
            ],
            [
             0.1111111111111111,
             "#46039f"
            ],
            [
             0.2222222222222222,
             "#7201a8"
            ],
            [
             0.3333333333333333,
             "#9c179e"
            ],
            [
             0.4444444444444444,
             "#bd3786"
            ],
            [
             0.5555555555555556,
             "#d8576b"
            ],
            [
             0.6666666666666666,
             "#ed7953"
            ],
            [
             0.7777777777777778,
             "#fb9f3a"
            ],
            [
             0.8888888888888888,
             "#fdca26"
            ],
            [
             1,
             "#f0f921"
            ]
           ]
          },
          "colorway": [
           "#636efa",
           "#EF553B",
           "#00cc96",
           "#ab63fa",
           "#FFA15A",
           "#19d3f3",
           "#FF6692",
           "#B6E880",
           "#FF97FF",
           "#FECB52"
          ],
          "font": {
           "color": "#2a3f5f"
          },
          "geo": {
           "bgcolor": "white",
           "lakecolor": "white",
           "landcolor": "#E5ECF6",
           "showlakes": true,
           "showland": true,
           "subunitcolor": "white"
          },
          "hoverlabel": {
           "align": "left"
          },
          "hovermode": "closest",
          "mapbox": {
           "style": "light"
          },
          "paper_bgcolor": "white",
          "plot_bgcolor": "#E5ECF6",
          "polar": {
           "angularaxis": {
            "gridcolor": "white",
            "linecolor": "white",
            "ticks": ""
           },
           "bgcolor": "#E5ECF6",
           "radialaxis": {
            "gridcolor": "white",
            "linecolor": "white",
            "ticks": ""
           }
          },
          "scene": {
           "xaxis": {
            "backgroundcolor": "#E5ECF6",
            "gridcolor": "white",
            "gridwidth": 2,
            "linecolor": "white",
            "showbackground": true,
            "ticks": "",
            "zerolinecolor": "white"
           },
           "yaxis": {
            "backgroundcolor": "#E5ECF6",
            "gridcolor": "white",
            "gridwidth": 2,
            "linecolor": "white",
            "showbackground": true,
            "ticks": "",
            "zerolinecolor": "white"
           },
           "zaxis": {
            "backgroundcolor": "#E5ECF6",
            "gridcolor": "white",
            "gridwidth": 2,
            "linecolor": "white",
            "showbackground": true,
            "ticks": "",
            "zerolinecolor": "white"
           }
          },
          "shapedefaults": {
           "line": {
            "color": "#2a3f5f"
           }
          },
          "ternary": {
           "aaxis": {
            "gridcolor": "white",
            "linecolor": "white",
            "ticks": ""
           },
           "baxis": {
            "gridcolor": "white",
            "linecolor": "white",
            "ticks": ""
           },
           "bgcolor": "#E5ECF6",
           "caxis": {
            "gridcolor": "white",
            "linecolor": "white",
            "ticks": ""
           }
          },
          "title": {
           "x": 0.05
          },
          "xaxis": {
           "automargin": true,
           "gridcolor": "white",
           "linecolor": "white",
           "ticks": "",
           "title": {
            "standoff": 15
           },
           "zerolinecolor": "white",
           "zerolinewidth": 2
          },
          "yaxis": {
           "automargin": true,
           "gridcolor": "white",
           "linecolor": "white",
           "ticks": "",
           "title": {
            "standoff": 15
           },
           "zerolinecolor": "white",
           "zerolinewidth": 2
          }
         }
        }
       }
      },
      "text/html": [
       "<div>                            <div id=\"35c3a356-6b64-493c-98f2-3caea26747f1\" class=\"plotly-graph-div\" style=\"height:525px; width:100%;\"></div>            <script type=\"text/javascript\">                require([\"plotly\"], function(Plotly) {                    window.PLOTLYENV=window.PLOTLYENV || {};                                    if (document.getElementById(\"35c3a356-6b64-493c-98f2-3caea26747f1\")) {                    Plotly.newPlot(                        \"35c3a356-6b64-493c-98f2-3caea26747f1\",                        [{\"text\":[\"Pro-choice\",\"Pro-life\"],\"title\":{\"position\":\"top center\",\"text\":\"Funnel Chart of Sentiment Distribution by Tweet Count\"},\"values\":[744,281],\"type\":\"funnelarea\"}],                        {\"template\":{\"data\":{\"bar\":[{\"error_x\":{\"color\":\"#2a3f5f\"},\"error_y\":{\"color\":\"#2a3f5f\"},\"marker\":{\"line\":{\"color\":\"#E5ECF6\",\"width\":0.5},\"pattern\":{\"fillmode\":\"overlay\",\"size\":10,\"solidity\":0.2}},\"type\":\"bar\"}],\"barpolar\":[{\"marker\":{\"line\":{\"color\":\"#E5ECF6\",\"width\":0.5},\"pattern\":{\"fillmode\":\"overlay\",\"size\":10,\"solidity\":0.2}},\"type\":\"barpolar\"}],\"carpet\":[{\"aaxis\":{\"endlinecolor\":\"#2a3f5f\",\"gridcolor\":\"white\",\"linecolor\":\"white\",\"minorgridcolor\":\"white\",\"startlinecolor\":\"#2a3f5f\"},\"baxis\":{\"endlinecolor\":\"#2a3f5f\",\"gridcolor\":\"white\",\"linecolor\":\"white\",\"minorgridcolor\":\"white\",\"startlinecolor\":\"#2a3f5f\"},\"type\":\"carpet\"}],\"choropleth\":[{\"colorbar\":{\"outlinewidth\":0,\"ticks\":\"\"},\"type\":\"choropleth\"}],\"contour\":[{\"colorbar\":{\"outlinewidth\":0,\"ticks\":\"\"},\"colorscale\":[[0.0,\"#0d0887\"],[0.1111111111111111,\"#46039f\"],[0.2222222222222222,\"#7201a8\"],[0.3333333333333333,\"#9c179e\"],[0.4444444444444444,\"#bd3786\"],[0.5555555555555556,\"#d8576b\"],[0.6666666666666666,\"#ed7953\"],[0.7777777777777778,\"#fb9f3a\"],[0.8888888888888888,\"#fdca26\"],[1.0,\"#f0f921\"]],\"type\":\"contour\"}],\"contourcarpet\":[{\"colorbar\":{\"outlinewidth\":0,\"ticks\":\"\"},\"type\":\"contourcarpet\"}],\"heatmap\":[{\"colorbar\":{\"outlinewidth\":0,\"ticks\":\"\"},\"colorscale\":[[0.0,\"#0d0887\"],[0.1111111111111111,\"#46039f\"],[0.2222222222222222,\"#7201a8\"],[0.3333333333333333,\"#9c179e\"],[0.4444444444444444,\"#bd3786\"],[0.5555555555555556,\"#d8576b\"],[0.6666666666666666,\"#ed7953\"],[0.7777777777777778,\"#fb9f3a\"],[0.8888888888888888,\"#fdca26\"],[1.0,\"#f0f921\"]],\"type\":\"heatmap\"}],\"heatmapgl\":[{\"colorbar\":{\"outlinewidth\":0,\"ticks\":\"\"},\"colorscale\":[[0.0,\"#0d0887\"],[0.1111111111111111,\"#46039f\"],[0.2222222222222222,\"#7201a8\"],[0.3333333333333333,\"#9c179e\"],[0.4444444444444444,\"#bd3786\"],[0.5555555555555556,\"#d8576b\"],[0.6666666666666666,\"#ed7953\"],[0.7777777777777778,\"#fb9f3a\"],[0.8888888888888888,\"#fdca26\"],[1.0,\"#f0f921\"]],\"type\":\"heatmapgl\"}],\"histogram\":[{\"marker\":{\"pattern\":{\"fillmode\":\"overlay\",\"size\":10,\"solidity\":0.2}},\"type\":\"histogram\"}],\"histogram2d\":[{\"colorbar\":{\"outlinewidth\":0,\"ticks\":\"\"},\"colorscale\":[[0.0,\"#0d0887\"],[0.1111111111111111,\"#46039f\"],[0.2222222222222222,\"#7201a8\"],[0.3333333333333333,\"#9c179e\"],[0.4444444444444444,\"#bd3786\"],[0.5555555555555556,\"#d8576b\"],[0.6666666666666666,\"#ed7953\"],[0.7777777777777778,\"#fb9f3a\"],[0.8888888888888888,\"#fdca26\"],[1.0,\"#f0f921\"]],\"type\":\"histogram2d\"}],\"histogram2dcontour\":[{\"colorbar\":{\"outlinewidth\":0,\"ticks\":\"\"},\"colorscale\":[[0.0,\"#0d0887\"],[0.1111111111111111,\"#46039f\"],[0.2222222222222222,\"#7201a8\"],[0.3333333333333333,\"#9c179e\"],[0.4444444444444444,\"#bd3786\"],[0.5555555555555556,\"#d8576b\"],[0.6666666666666666,\"#ed7953\"],[0.7777777777777778,\"#fb9f3a\"],[0.8888888888888888,\"#fdca26\"],[1.0,\"#f0f921\"]],\"type\":\"histogram2dcontour\"}],\"mesh3d\":[{\"colorbar\":{\"outlinewidth\":0,\"ticks\":\"\"},\"type\":\"mesh3d\"}],\"parcoords\":[{\"line\":{\"colorbar\":{\"outlinewidth\":0,\"ticks\":\"\"}},\"type\":\"parcoords\"}],\"pie\":[{\"automargin\":true,\"type\":\"pie\"}],\"scatter\":[{\"marker\":{\"colorbar\":{\"outlinewidth\":0,\"ticks\":\"\"}},\"type\":\"scatter\"}],\"scatter3d\":[{\"line\":{\"colorbar\":{\"outlinewidth\":0,\"ticks\":\"\"}},\"marker\":{\"colorbar\":{\"outlinewidth\":0,\"ticks\":\"\"}},\"type\":\"scatter3d\"}],\"scattercarpet\":[{\"marker\":{\"colorbar\":{\"outlinewidth\":0,\"ticks\":\"\"}},\"type\":\"scattercarpet\"}],\"scattergeo\":[{\"marker\":{\"colorbar\":{\"outlinewidth\":0,\"ticks\":\"\"}},\"type\":\"scattergeo\"}],\"scattergl\":[{\"marker\":{\"colorbar\":{\"outlinewidth\":0,\"ticks\":\"\"}},\"type\":\"scattergl\"}],\"scattermapbox\":[{\"marker\":{\"colorbar\":{\"outlinewidth\":0,\"ticks\":\"\"}},\"type\":\"scattermapbox\"}],\"scatterpolar\":[{\"marker\":{\"colorbar\":{\"outlinewidth\":0,\"ticks\":\"\"}},\"type\":\"scatterpolar\"}],\"scatterpolargl\":[{\"marker\":{\"colorbar\":{\"outlinewidth\":0,\"ticks\":\"\"}},\"type\":\"scatterpolargl\"}],\"scatterternary\":[{\"marker\":{\"colorbar\":{\"outlinewidth\":0,\"ticks\":\"\"}},\"type\":\"scatterternary\"}],\"surface\":[{\"colorbar\":{\"outlinewidth\":0,\"ticks\":\"\"},\"colorscale\":[[0.0,\"#0d0887\"],[0.1111111111111111,\"#46039f\"],[0.2222222222222222,\"#7201a8\"],[0.3333333333333333,\"#9c179e\"],[0.4444444444444444,\"#bd3786\"],[0.5555555555555556,\"#d8576b\"],[0.6666666666666666,\"#ed7953\"],[0.7777777777777778,\"#fb9f3a\"],[0.8888888888888888,\"#fdca26\"],[1.0,\"#f0f921\"]],\"type\":\"surface\"}],\"table\":[{\"cells\":{\"fill\":{\"color\":\"#EBF0F8\"},\"line\":{\"color\":\"white\"}},\"header\":{\"fill\":{\"color\":\"#C8D4E3\"},\"line\":{\"color\":\"white\"}},\"type\":\"table\"}]},\"layout\":{\"annotationdefaults\":{\"arrowcolor\":\"#2a3f5f\",\"arrowhead\":0,\"arrowwidth\":1},\"autotypenumbers\":\"strict\",\"coloraxis\":{\"colorbar\":{\"outlinewidth\":0,\"ticks\":\"\"}},\"colorscale\":{\"diverging\":[[0,\"#8e0152\"],[0.1,\"#c51b7d\"],[0.2,\"#de77ae\"],[0.3,\"#f1b6da\"],[0.4,\"#fde0ef\"],[0.5,\"#f7f7f7\"],[0.6,\"#e6f5d0\"],[0.7,\"#b8e186\"],[0.8,\"#7fbc41\"],[0.9,\"#4d9221\"],[1,\"#276419\"]],\"sequential\":[[0.0,\"#0d0887\"],[0.1111111111111111,\"#46039f\"],[0.2222222222222222,\"#7201a8\"],[0.3333333333333333,\"#9c179e\"],[0.4444444444444444,\"#bd3786\"],[0.5555555555555556,\"#d8576b\"],[0.6666666666666666,\"#ed7953\"],[0.7777777777777778,\"#fb9f3a\"],[0.8888888888888888,\"#fdca26\"],[1.0,\"#f0f921\"]],\"sequentialminus\":[[0.0,\"#0d0887\"],[0.1111111111111111,\"#46039f\"],[0.2222222222222222,\"#7201a8\"],[0.3333333333333333,\"#9c179e\"],[0.4444444444444444,\"#bd3786\"],[0.5555555555555556,\"#d8576b\"],[0.6666666666666666,\"#ed7953\"],[0.7777777777777778,\"#fb9f3a\"],[0.8888888888888888,\"#fdca26\"],[1.0,\"#f0f921\"]]},\"colorway\":[\"#636efa\",\"#EF553B\",\"#00cc96\",\"#ab63fa\",\"#FFA15A\",\"#19d3f3\",\"#FF6692\",\"#B6E880\",\"#FF97FF\",\"#FECB52\"],\"font\":{\"color\":\"#2a3f5f\"},\"geo\":{\"bgcolor\":\"white\",\"lakecolor\":\"white\",\"landcolor\":\"#E5ECF6\",\"showlakes\":true,\"showland\":true,\"subunitcolor\":\"white\"},\"hoverlabel\":{\"align\":\"left\"},\"hovermode\":\"closest\",\"mapbox\":{\"style\":\"light\"},\"paper_bgcolor\":\"white\",\"plot_bgcolor\":\"#E5ECF6\",\"polar\":{\"angularaxis\":{\"gridcolor\":\"white\",\"linecolor\":\"white\",\"ticks\":\"\"},\"bgcolor\":\"#E5ECF6\",\"radialaxis\":{\"gridcolor\":\"white\",\"linecolor\":\"white\",\"ticks\":\"\"}},\"scene\":{\"xaxis\":{\"backgroundcolor\":\"#E5ECF6\",\"gridcolor\":\"white\",\"gridwidth\":2,\"linecolor\":\"white\",\"showbackground\":true,\"ticks\":\"\",\"zerolinecolor\":\"white\"},\"yaxis\":{\"backgroundcolor\":\"#E5ECF6\",\"gridcolor\":\"white\",\"gridwidth\":2,\"linecolor\":\"white\",\"showbackground\":true,\"ticks\":\"\",\"zerolinecolor\":\"white\"},\"zaxis\":{\"backgroundcolor\":\"#E5ECF6\",\"gridcolor\":\"white\",\"gridwidth\":2,\"linecolor\":\"white\",\"showbackground\":true,\"ticks\":\"\",\"zerolinecolor\":\"white\"}},\"shapedefaults\":{\"line\":{\"color\":\"#2a3f5f\"}},\"ternary\":{\"aaxis\":{\"gridcolor\":\"white\",\"linecolor\":\"white\",\"ticks\":\"\"},\"baxis\":{\"gridcolor\":\"white\",\"linecolor\":\"white\",\"ticks\":\"\"},\"bgcolor\":\"#E5ECF6\",\"caxis\":{\"gridcolor\":\"white\",\"linecolor\":\"white\",\"ticks\":\"\"}},\"title\":{\"x\":0.05},\"xaxis\":{\"automargin\":true,\"gridcolor\":\"white\",\"linecolor\":\"white\",\"ticks\":\"\",\"title\":{\"standoff\":15},\"zerolinecolor\":\"white\",\"zerolinewidth\":2},\"yaxis\":{\"automargin\":true,\"gridcolor\":\"white\",\"linecolor\":\"white\",\"ticks\":\"\",\"title\":{\"standoff\":15},\"zerolinecolor\":\"white\",\"zerolinewidth\":2}}}},                        {\"responsive\": true}                    ).then(function(){\n",
       "                            \n",
       "var gd = document.getElementById('35c3a356-6b64-493c-98f2-3caea26747f1');\n",
       "var x = new MutationObserver(function (mutations, observer) {{\n",
       "        var display = window.getComputedStyle(gd).display;\n",
       "        if (!display || display === 'none') {{\n",
       "            console.log([gd, 'removed!']);\n",
       "            Plotly.purge(gd);\n",
       "            observer.disconnect();\n",
       "        }}\n",
       "}});\n",
       "\n",
       "// Listen for the removal of the full notebook cells\n",
       "var notebookContainer = gd.closest('#notebook-container');\n",
       "if (notebookContainer) {{\n",
       "    x.observe(notebookContainer, {childList: true});\n",
       "}}\n",
       "\n",
       "// Listen for the clearing of the current output cell\n",
       "var outputEl = gd.closest('.output');\n",
       "if (outputEl) {{\n",
       "    x.observe(outputEl, {childList: true});\n",
       "}}\n",
       "\n",
       "                        })                };                });            </script>        </div>"
      ]
     },
     "metadata": {},
     "output_type": "display_data"
    }
   ],
   "source": [
    "#Plot funnel chart\n",
    "fig = go.Figure(go.Funnelarea(\n",
    "    text =temp.sentiments,\n",
    "    values = temp.text,\n",
    "    title = {\"position\": \"top center\", \"text\": \"Funnel Chart of Sentiment Distribution by Tweet Count\"}\n",
    "    ))\n",
    "fig.show()"
   ]
  },
  {
   "cell_type": "markdown",
   "metadata": {},
   "source": [
    "## Distribution of Character Counts: Number of Characters in Each Tweet"
   ]
  },
  {
   "cell_type": "code",
   "execution_count": 83,
   "metadata": {},
   "outputs": [
    {
     "data": {
      "text/plain": [
       "<AxesSubplot:>"
      ]
     },
     "execution_count": 83,
     "metadata": {},
     "output_type": "execute_result"
    },
    {
     "data": {
      "image/png": "[encoded data removed]",
      "text/plain": [
       "<Figure size 432x288 with 1 Axes>"
      ]
     },
     "metadata": {
      "needs_background": "light"
     },
     "output_type": "display_data"
    }
   ],
   "source": [
    "#Plot histogram\n",
    "df[\"text\"].str.len().hist()\n",
    "#Tweets range between 20 and 145 characters in length"
   ]
  },
  {
   "cell_type": "markdown",
   "metadata": {},
   "source": [
    "## Distribution of Word Counts"
   ]
  },
  {
   "cell_type": "markdown",
   "metadata": {},
   "source": [
    "### Distribution of Word Counts: Number of Words in Each Tweet"
   ]
  },
  {
   "cell_type": "code",
   "execution_count": 86,
   "metadata": {
    "scrolled": false
   },
   "outputs": [
    {
     "data": {
      "image/png": "[encoded data removed]",
      "text/plain": [
       "<Figure size 432x288 with 1 Axes>"
      ]
     },
     "metadata": {
      "needs_background": "light"
     },
     "output_type": "display_data"
    }
   ],
   "source": [
    "#Create a word counter histogram function\n",
    "def plot_word_number_histogram(text):\n",
    "    text.str.split().\\\n",
    "        map(lambda x: len(x)).\\\n",
    "        hist()\n",
    "\n",
    "#Plot histogram\n",
    "plot_word_number_histogram(df[\"text\"]) #The number of words per tweet ranges from 1 to 30"
   ]
  },
  {
   "cell_type": "markdown",
   "metadata": {},
   "source": [
    "### Distribution of Word Counts: Number of Words in Each Tweet by Sentiment"
   ]
  },
  {
   "cell_type": "code",
   "execution_count": 184,
   "metadata": {},
   "outputs": [
    {
     "data": {
      "text/plain": [
       "tweet_id\n",
       "1540795861126352898    18\n",
       "1540784525864669186    13\n",
       "1540796129725427715    21\n",
       "1540795450243969024    20\n",
       "1540796064650903552    16\n",
       "                       ..\n",
       "1540795856181514242    25\n",
       "1540796067624587266    17\n",
       "1540795803081531394    15\n",
       "1540794043117862912    22\n",
       "1540796198063202305    20\n",
       "Name: Num_word_text, Length: 281, dtype: int64"
      ]
     },
     "execution_count": 184,
     "metadata": {},
     "output_type": "execute_result"
    }
   ],
   "source": [
    "#Subset dataframe for words per tweet and sentiment\n",
    "\n",
    "df[\"Num_word_text\"] = df[\"text\"].apply(lambda x:len(str(x).split())) \n",
    "\n",
    "df[df.sentiments == \"Pro-life\"][\"Num_word_text\"]\n"
   ]
  },
  {
   "cell_type": "code",
   "execution_count": 185,
   "metadata": {
    "scrolled": true
   },
   "outputs": [
    {
     "data": {
      "text/plain": [
       "<matplotlib.legend.Legend at 0x7fa3b40a0460>"
      ]
     },
     "execution_count": 185,
     "metadata": {},
     "output_type": "execute_result"
    },
    {
     "data": {
      "image/png": "[encoded data removed]",
      "text/plain": [
       "<Figure size 576x432 with 1 Axes>"
      ]
     },
     "metadata": {
      "needs_background": "light"
     },
     "output_type": "display_data"
    }
   ],
   "source": [
    "#Create two distributions based on sentiment\n",
    "data1 = df[df.sentiments == \"Pro-life\"][\"Num_word_text\"]\n",
    "data2 = df[df.sentiments == \"Pro-choice\"][\"Num_word_text\"]\n",
    "\n",
    "#Plot a Histogram of Words per Tweets by Sentiment\n",
    "plt.figure(figsize=(8,6))\n",
    "plt.hist(data1, bins=10, alpha=0.5, label=\"pro-choice\")\n",
    "plt.hist(data2, bins=10, alpha=0.5, label=\"pro-life\")\n",
    "plt.xlabel(\"Number of Words per Tweet\", size=14)\n",
    "plt.ylabel(\"Count\", size=14)\n",
    "plt.title(\"Distribution of Number of Words per Tweets by Sentiment \")\n",
    "plt.legend(loc= \"upper right\")\n"
   ]
  },
  {
   "cell_type": "code",
   "execution_count": 186,
   "metadata": {},
   "outputs": [
    {
     "data": {
      "image/png": "[encoded data removed]",
      "text/plain": [
       "<Figure size 864x432 with 1 Axes>"
      ]
     },
     "metadata": {
      "needs_background": "light"
     },
     "output_type": "display_data"
    }
   ],
   "source": [
    "#Plot a Kernel Plot\n",
    "plt.figure(figsize=(12,6))\n",
    "p1=sns.kdeplot(data1, shade=True, color=\"r\").set_title('Kernel Distribution of Number Of Words')\n",
    "p1=sns.kdeplot(data2, shade=True, color=\"b\")\n"
   ]
  },
  {
   "cell_type": "markdown",
   "metadata": {},
   "source": [
    "## Distribution of Average Word Length in Each Tweet"
   ]
  },
  {
   "cell_type": "code",
   "execution_count": 88,
   "metadata": {},
   "outputs": [
    {
     "data": {
      "image/png": "[encoded data removed]",
      "text/plain": [
       "<Figure size 432x288 with 1 Axes>"
      ]
     },
     "metadata": {
      "needs_background": "light"
     },
     "output_type": "display_data"
    }
   ],
   "source": [
    "#Create an average word length histogram function\n",
    "def plot_word_length_histogram(text):\n",
    "    text.str.split().\\\n",
    "        apply(lambda x : [len(i) for i in x]). \\\n",
    "        map(lambda x: np.mean(x)).\\\n",
    "        hist()\n",
    "\n",
    "#Plot histogram\n",
    "plot_word_length_histogram(df[\"text\"]) #The average word length ranges between 3 to 11"
   ]
  },
  {
   "cell_type": "markdown",
   "metadata": {},
   "source": [
    "## Distribution of Stopwords in Each Tweet"
   ]
  },
  {
   "cell_type": "code",
   "execution_count": 89,
   "metadata": {
    "scrolled": true
   },
   "outputs": [
    {
     "data": {
      "image/png": "[encoded data removed]",
      "text/plain": [
       "<Figure size 432x288 with 1 Axes>"
      ]
     },
     "metadata": {
      "needs_background": "light"
     },
     "output_type": "display_data"
    }
   ],
   "source": [
    "#Create corpus for nltk library\n",
    "corpus=[]\n",
    "\n",
    "#Create function to plot stopwords\n",
    "def plot_top_stopwords_barchart(text):\n",
    "    stop_words =set(stopwords.words('english'))\n",
    "    df_stop = df[\"text\"].str.split()\n",
    "    df_stop = df_stop.values.tolist()\n",
    "    corpus = [word for i in df_stop for word in i]\n",
    "\n",
    "    from collections import defaultdict\n",
    "    dic = defaultdict(int)\n",
    "    for word in corpus:\n",
    "        if word in stop_words:\n",
    "            dic[word]+=1\n",
    "        \n",
    "       \n",
    "    top=sorted(dic.items(), key=lambda x:x[1],reverse=True)[:10] #top ten stop words\n",
    "    x,y=zip(*top)\n",
    "    plt.bar(x,y)\n",
    "\n",
    "#Plot bar chart \n",
    "plot_top_stopwords_barchart(df[\"text\"]) # \"the\", \"to\" and \"a\""
   ]
  },
  {
   "cell_type": "markdown",
   "metadata": {},
   "source": [
    "## Distribution of Non-Stop Words in Each Tweet"
   ]
  },
  {
   "cell_type": "code",
   "execution_count": 92,
   "metadata": {
    "scrolled": true
   },
   "outputs": [
    {
     "data": {
      "image/png": "[encoded data removed]",
      "text/plain": [
       "<Figure size 432x288 with 1 Axes>"
      ]
     },
     "metadata": {
      "needs_background": "light"
     },
     "output_type": "display_data"
    }
   ],
   "source": [
    "#Identify what words other than stop words occur frequently\n",
    "#Create function to plot non-stop words\n",
    "def plot_top_non_stopwords_barchart(text):\n",
    "    stop_words =set(stopwords.words('english'))\n",
    "    \n",
    "    df_nstop = df[\"text\"].str.split()\n",
    "    df_nstop = df_nstop.values.tolist()\n",
    "    corpus = [word for i in df_nstop for word in i]\n",
    "\n",
    "    counter=Counter(corpus)\n",
    "    most=counter.most_common()\n",
    "    x, y=[], []\n",
    "    for word,count in most[:40]:\n",
    "        if (word not in stop_words):\n",
    "            x.append(word)\n",
    "            y.append(count)\n",
    "            \n",
    "    sns.barplot(x=y,y=x)\n",
    "    \n",
    "#Plot bar graph\n",
    "plot_top_non_stopwords_barchart(df[\"text\"]) #\"Roe\", \"abortion\" and \"Wade\" predominate\n",
    "\n",
    "#Question: What do we do about sentence case? E.g. \"abortion\" and \"Abortion\", \"Wade\" and \"wade\" etc?"
   ]
  },
  {
   "cell_type": "markdown",
   "metadata": {},
   "source": [
    "# Ngram Exploration"
   ]
  },
  {
   "cell_type": "markdown",
   "metadata": {},
   "source": [
    "## Bigrams"
   ]
  },
  {
   "cell_type": "code",
   "execution_count": 96,
   "metadata": {},
   "outputs": [
    {
     "data": {
      "image/png": "[encoded data removed]",
      "text/plain": [
       "<Figure size 432x288 with 1 Axes>"
      ]
     },
     "metadata": {
      "needs_background": "light"
     },
     "output_type": "display_data"
    }
   ],
   "source": [
    "#load count vectorizer function\n",
    "from sklearn.feature_extraction.text import CountVectorizer\n",
    "\n",
    "#Create a function to plot bigrams as a bar chart\n",
    "def plot_top_ngrams_barchart(text, n=2):\n",
    "    stop_words =set(stopwords.words('english'))\n",
    "\n",
    "    df_ngram = df[\"text\"].str.split()\n",
    "    df_ngram = df_ngram.values.tolist()\n",
    "    corpus = [word for i in df_ngram for word in i]\n",
    "\n",
    "    def _get_top_ngram(corpus, n=None):\n",
    "        vec = CountVectorizer(ngram_range=(n, n)).fit(corpus)\n",
    "        bag_of_words = vec.transform(corpus)\n",
    "        sum_words = bag_of_words.sum(axis=0) \n",
    "        words_freq = [(word, sum_words[0, idx]) \n",
    "                      for word, idx in vec.vocabulary_.items()]\n",
    "        words_freq =sorted(words_freq, key = lambda x: x[1], reverse=True)\n",
    "        return words_freq[:10]\n",
    "\n",
    "    top_n_bigrams=_get_top_ngram(text,n)[:10]\n",
    "    x,y=map(list,zip(*top_n_bigrams))\n",
    "    sns.barplot(x=y,y=x)\n",
    "\n",
    "#Plot bigrams as bar chart\n",
    "plot_top_ngrams_barchart(df[\"text\"],2) #bigram\n",
    "\n",
    "#Question: https co is the most frequently occuring because every tweet has a unique html link. What to do?\n",
    "#After that, \"roe wade\" is by far the most common bigram"
   ]
  },
  {
   "cell_type": "markdown",
   "metadata": {},
   "source": [
    "## Trigrams"
   ]
  },
  {
   "cell_type": "code",
   "execution_count": 102,
   "metadata": {
    "scrolled": true
   },
   "outputs": [
    {
     "data": {
      "image/png": "[encoded data removed]",
      "text/plain": [
       "<Figure size 432x288 with 1 Axes>"
      ]
     },
     "metadata": {
      "needs_background": "light"
     },
     "output_type": "display_data"
    }
   ],
   "source": [
    "#Plot trigrams as bar chart\n",
    "plot_top_ngrams_barchart(df[\"text\"],3) #trigrams\n",
    "\n",
    "#\"roe vs wade\" and\"of roe wade\" are the most common"
   ]
  },
  {
   "cell_type": "markdown",
   "metadata": {},
   "source": [
    "# Topic modeling exploration with pyLDAvis"
   ]
  },
  {
   "cell_type": "markdown",
   "metadata": {},
   "source": [
    "Preprocess data by:\n",
    "\n",
    "Tokenization: the process by which sentences are converted to a list of tokens or words.\n",
    "\n",
    "Removal of stopwords\n",
    "\n",
    "Lemmatization: reduces the inflectional forms of each word into a common base or root.\n",
    "\n",
    "Conversion to the bag of words model: Bag of words is a dictionary where the keys are words(or ngrams/tokens) and values are the number of times each word occurs in the corpus"
   ]
  },
  {
   "cell_type": "markdown",
   "metadata": {},
   "source": [
    "## Preprocessing Data"
   ]
  },
  {
   "cell_type": "code",
   "execution_count": 111,
   "metadata": {},
   "outputs": [],
   "source": [
    "#Create a function called preprocess_tweet\n",
    "def preprocess_tweet(df):\n",
    "    corpus=[]\n",
    "    ps = nltk.PorterStemmer()\n",
    "    lemmatizer = nltk.stem.WordNetLemmatizer()\n",
    "    for tweets in df[\"text\"]:\n",
    "        words = [w for w in word_tokenize(tweets) if (w not in stop_words)]\n",
    "        \n",
    "        words = [lemmatizer.lemmatize(w) for w in words if len(w)>2]\n",
    "        \n",
    "        corpus.append(words)\n",
    "    return corpus\n",
    "\n",
    "corpus = preprocess_tweet(df)\n",
    "\n",
    "#Recall:\n",
    "#ps = nltk.PorterStemmer()\n",
    "#w_tokenizer = nltk.tokenize.WhitespaceTokenizer()\n",
    "#lemmatizer = nltk.stem.WordNetLemmatizer()"
   ]
  },
  {
   "cell_type": "code",
   "execution_count": 115,
   "metadata": {},
   "outputs": [],
   "source": [
    "#Create a bag of words model using gensim package\n",
    "dic = gensim.corpora.Dictionary(corpus)\n",
    "bow_corpus = [dic.doc2bow(doc) for doc in corpus]"
   ]
  },
  {
   "cell_type": "code",
   "execution_count": 116,
   "metadata": {},
   "outputs": [
    {
     "data": {
      "text/plain": [
       "[(0,\n",
       "  '0.048*\"http\" + 0.020*\"abortion\" + 0.013*\"Roe\" + 0.012*\"Wade\" + 0.011*\"right\" + 0.007*\"woman\" + 0.005*\"The\" + 0.005*\"n\\'t\" + 0.004*\"You\" + 0.004*\"What\"'),\n",
       " (1,\n",
       "  '0.026*\"http\" + 0.022*\"Roe\" + 0.021*\"Wade\" + 0.015*\"abortion\" + 0.005*\"get\" + 0.005*\"wade\" + 0.004*\"roe\" + 0.004*\"would\" + 0.004*\"Abortion\" + 0.004*\"n\\'t\"'),\n",
       " (2,\n",
       "  '0.052*\"http\" + 0.019*\"abortion\" + 0.015*\"Roe\" + 0.013*\"Wade\" + 0.012*\"woman\" + 0.007*\"The\" + 0.006*\"wade\" + 0.006*\"roe\" + 0.005*\"right\" + 0.005*\"get\"'),\n",
       " (3,\n",
       "  '0.050*\"http\" + 0.016*\"Roe\" + 0.016*\"abortion\" + 0.015*\"Wade\" + 0.009*\"right\" + 0.008*\"The\" + 0.006*\"woman\" + 0.006*\"people\" + 0.006*\"overturned\" + 0.005*\"decision\"')]"
      ]
     },
     "execution_count": 116,
     "metadata": {},
     "output_type": "execute_result"
    }
   ],
   "source": [
    "#Create Latent Dirichlate Allocation(LDA) Model\n",
    "#Each tweet is represented by the distribution of topics and each topic is represented by the distribution of words.\n",
    "\n",
    "lda_model = gensim.models.LdaMulticore(bow_corpus, \n",
    "                                   num_topics = 4, \n",
    "                                   id2word = dic,                                    \n",
    "                                   passes = 10,\n",
    "                                   workers = 2)\n",
    "lda_model.show_topics()"
   ]
  },
  {
   "cell_type": "code",
   "execution_count": 157,
   "metadata": {},
   "outputs": [],
   "source": [
    "#Visualize LDA Model results using pyLDAvis\n",
    "\n",
    "import pyLDAvis\n",
    "\n",
    "\n",
    "def get_lda_objects(text):\n",
    "    nltk.download(\"stopwords\")    \n",
    "    stop_words = set(stopwords.words(\"english\"))\n",
    "\n",
    "    \n",
    "    def _preprocess_text(text):\n",
    "        corpus=[]\n",
    "        ps = nltk.PorterStemmer()\n",
    "        lemmatizer = nltk.stem.WordNetLemmatizer()\n",
    "        for tweets in text:\n",
    "            words = [w for w in word_tokenize(tweets) if (w not in stop_words)]\n",
    "\n",
    "            words = [lemmatizer.lemmatize(w) for w in words if len(w)>2]\n",
    "\n",
    "            corpus.append(words)\n",
    "        return corpus\n",
    "    \n",
    "    corpus = _preprocess_text(text)\n",
    "    \n",
    "    dic = gensim.corpora.Dictionary(corpus)\n",
    "    bow_corpus = [dic.doc2bow(doc) for doc in corpus]\n",
    "    \n",
    "    lda_model =  gensim.models.LdaMulticore(bow_corpus, \n",
    "                                   num_topics = 4, \n",
    "                                   id2word = dic,                                    \n",
    "                                   passes = 10,\n",
    "                                   workers = 2)\n",
    "    \n",
    "    return lda_model, bow_corpus, dic"
   ]
  },
  {
   "cell_type": "code",
   "execution_count": 165,
   "metadata": {},
   "outputs": [
    {
     "name": "stderr",
     "output_type": "stream",
     "text": [
      "[nltk_data] Downloading package stopwords to /Users/ebuwa/nltk_data...\n",
      "[nltk_data]   Package stopwords is already up-to-date!\n"
     ]
    }
   ],
   "source": [
    "\n",
    "lda_model, bow_corpus, dic = get_lda_objects(df[\"text\"])"
   ]
  },
  {
   "cell_type": "code",
   "execution_count": 166,
   "metadata": {},
   "outputs": [
    {
     "data": {
      "text/plain": [
       "[(0,\n",
       "  '0.038*\"http\" + 0.019*\"Roe\" + 0.018*\"Wade\" + 0.018*\"abortion\" + 0.012*\"right\" + 0.007*\"woman\" + 0.007*\"roe\" + 0.007*\"wade\" + 0.006*\"overturned\" + 0.004*\"overturning\"'),\n",
       " (1,\n",
       "  '0.048*\"http\" + 0.018*\"abortion\" + 0.014*\"Roe\" + 0.011*\"Wade\" + 0.009*\"woman\" + 0.007*\"right\" + 0.005*\"say\" + 0.004*\"like\" + 0.004*\"You\" + 0.004*\"wade\"'),\n",
       " (2,\n",
       "  '0.050*\"http\" + 0.027*\"abortion\" + 0.009*\"Roe\" + 0.008*\"n\\'t\" + 0.008*\"Wade\" + 0.006*\"people\" + 0.005*\"The\" + 0.005*\"right\" + 0.005*\"get\" + 0.004*\"life\"'),\n",
       " (3,\n",
       "  '0.045*\"http\" + 0.025*\"Roe\" + 0.023*\"Wade\" + 0.013*\"The\" + 0.011*\"woman\" + 0.006*\"right\" + 0.006*\"abortion\" + 0.005*\"Court\" + 0.005*\"Abortion\" + 0.005*\"Supreme\"')]"
      ]
     },
     "execution_count": 166,
     "metadata": {},
     "output_type": "execute_result"
    }
   ],
   "source": [
    "lda_model.show_topics()"
   ]
  },
  {
   "cell_type": "code",
   "execution_count": 167,
   "metadata": {
    "scrolled": true
   },
   "outputs": [
    {
     "ename": "TypeError",
     "evalue": "prepare() missing 2 required positional arguments: 'vocab' and 'term_frequency'",
     "output_type": "error",
     "traceback": [
      "\u001b[0;31m---------------------------------------------------------------------------\u001b[0m",
      "\u001b[0;31mTypeError\u001b[0m                                 Traceback (most recent call last)",
      "Input \u001b[0;32mIn [167]\u001b[0m, in \u001b[0;36m<cell line: 1>\u001b[0;34m()\u001b[0m\n\u001b[0;32m----> 1\u001b[0m \u001b[43mpyLDAvis\u001b[49m\u001b[38;5;241;43m.\u001b[39;49m\u001b[43mprepare\u001b[49m\u001b[43m(\u001b[49m\u001b[43mlda_model\u001b[49m\u001b[43m,\u001b[49m\u001b[43m \u001b[49m\u001b[43mbow_corpus\u001b[49m\u001b[43m,\u001b[49m\u001b[43m \u001b[49m\u001b[43mdic\u001b[49m\u001b[43m)\u001b[49m\n",
      "\u001b[0;31mTypeError\u001b[0m: prepare() missing 2 required positional arguments: 'vocab' and 'term_frequency'"
     ]
    }
   ],
   "source": [
    "pyLDAvis.prepare(lda_model, bow_corpus, dic)\n",
    "\n",
    "#Question: Can someone debug this? I suspect there are issues with the package itself as it is still in beta"
   ]
  },
  {
   "cell_type": "markdown",
   "metadata": {},
   "source": [
    "# Wordcloud"
   ]
  },
  {
   "cell_type": "code",
   "execution_count": 168,
   "metadata": {},
   "outputs": [],
   "source": [
    "#Create a function called plot_wordcloud\n",
    "def plot_wordcloud(text):\n",
    "    nltk.download(\"stopwords\")\n",
    "    stop_words =set(stopwords.words(\"english\"))\n",
    "    \n",
    "    def _preprocess_text(text):\n",
    "        corpus=[]\n",
    "        ps = nltk.PorterStemmer()\n",
    "        lemmatizer = nltk.stem.WordNetLemmatizer()\n",
    "        for tweets in text:\n",
    "            words = [w for w in word_tokenize(tweets) if (w not in stop_words)]\n",
    "\n",
    "            words = [lemmatizer.lemmatize(w) for w in words if len(w)>2]\n",
    "\n",
    "            corpus.append(words)\n",
    "        return corpus\n",
    "    \n",
    "    corpus = _preprocess_text(text)\n",
    "    \n",
    "    wordcloud = WordCloud(\n",
    "        background_color= \"white\",\n",
    "        stopwords=set(STOPWORDS),\n",
    "        max_words=100,\n",
    "        max_font_size=30, \n",
    "        scale=3,\n",
    "        random_state=1)\n",
    "    \n",
    "    wordcloud = wordcloud.generate(str(corpus))\n",
    "\n",
    "    fig = plt.figure(1, figsize=(12, 12))\n",
    "    plt.axis('off')\n",
    " \n",
    "    plt.imshow(wordcloud)\n",
    "    plt.show()"
   ]
  },
  {
   "cell_type": "code",
   "execution_count": 170,
   "metadata": {},
   "outputs": [
    {
     "name": "stderr",
     "output_type": "stream",
     "text": [
      "[nltk_data] Downloading package stopwords to /Users/ebuwa/nltk_data...\n",
      "[nltk_data]   Package stopwords is already up-to-date!\n"
     ]
    },
    {
     "data": {
      "image/png": "[encoded data removed]",
      "text/plain": [
       "<Figure size 864x864 with 1 Axes>"
      ]
     },
     "metadata": {
      "needs_background": "light"
     },
     "output_type": "display_data"
    }
   ],
   "source": [
    "#Plot wordcloud\n",
    "plot_wordcloud(df[\"text\"]) #Are there parameters we should adjust?"
   ]
  },
  {
   "cell_type": "markdown",
   "metadata": {},
   "source": [
    "# Sentiment Analysis"
   ]
  },
  {
   "cell_type": "markdown",
   "metadata": {},
   "source": [
    "Using VADER or Valence Aware Dictionary and Sentiment Reasoner is a rule/lexicon-based, open-source sentiment analyzer pre-built library, protected under the MIT license.\n",
    "\n",
    "VADER sentiment analysis class returns a dictionary that contains the probabilities of the text for being positive, negative and neutral. Then we can filter and choose the sentiment with most probability."
   ]
  },
  {
   "cell_type": "code",
   "execution_count": 171,
   "metadata": {},
   "outputs": [
    {
     "name": "stderr",
     "output_type": "stream",
     "text": [
      "[nltk_data] Downloading package vader_lexicon to\n",
      "[nltk_data]     /Users/ebuwa/nltk_data...\n"
     ]
    },
    {
     "data": {
      "text/plain": [
       "<BarContainer object of 3 artists>"
      ]
     },
     "execution_count": 171,
     "metadata": {},
     "output_type": "execute_result"
    },
    {
     "data": {
      "image/png": "[encoded data removed]",
      "text/plain": [
       "<Figure size 432x288 with 1 Axes>"
      ]
     },
     "metadata": {
      "needs_background": "light"
     },
     "output_type": "display_data"
    }
   ],
   "source": [
    "from nltk.sentiment.vader import SentimentIntensityAnalyzer\n",
    "\n",
    "nltk.download(\"vader_lexicon\")\n",
    "sid = SentimentIntensityAnalyzer()\n",
    "\n",
    "#Create function get_vader_score\n",
    "def get_vader_score(sent):\n",
    "    # Polarity score returns dictionary\n",
    "    ss = sid.polarity_scores(sent)\n",
    "    #return ss\n",
    "    return np.argmax(list(ss.values())[:-1])\n",
    "\n",
    "df[\"polarity\"]= df[\"text\"].\\\n",
    "    map(lambda x: get_vader_score(x))\n",
    "polarity = df[\"polarity\"].replace({0:'neg',1:'neu',2:'pos'})\n",
    "\n",
    "#Plot bar chart of neutral, negative or positive sentiment\n",
    "plt.bar(polarity.value_counts().index,\n",
    "        polarity.value_counts()) \n",
    "\n",
    "#Most of our tweets are neutral"
   ]
  },
  {
   "cell_type": "markdown",
   "metadata": {},
   "source": [
    "# Named Entity Recognition"
   ]
  },
  {
   "cell_type": "markdown",
   "metadata": {},
   "source": [
    "See spacy entity types here: https://neptune.ai/blog/exploratory-data-analysis-natural-language-processing-tools"
   ]
  },
  {
   "cell_type": "code",
   "execution_count": 175,
   "metadata": {},
   "outputs": [],
   "source": [
    "# Download pre-trained English language models in spacy library\n",
    "\n",
    "import spacy\n",
    "nlp = spacy.load(\"en_core_web_sm\")"
   ]
  },
  {
   "cell_type": "code",
   "execution_count": 176,
   "metadata": {},
   "outputs": [],
   "source": [
    "#Create a function called ner\n",
    "def ner(text):\n",
    "    doc = nlp(text)\n",
    "    return [X.label_ for X in doc.ents]\n",
    "\n",
    "ent = df[\"text\"].\\\n",
    "     apply(lambda x : ner(x))\n",
    "ent = [x for sub in ent for x in sub]\n",
    "\n",
    "counter = Counter(ent)\n",
    "count = counter.most_common()"
   ]
  },
  {
   "cell_type": "code",
   "execution_count": 177,
   "metadata": {},
   "outputs": [
    {
     "data": {
      "text/plain": [
       "<AxesSubplot:>"
      ]
     },
     "execution_count": 177,
     "metadata": {},
     "output_type": "execute_result"
    },
    {
     "data": {
      "image/png": "[encoded data removed]",
      "text/plain": [
       "<Figure size 432x288 with 1 Axes>"
      ]
     },
     "metadata": {
      "needs_background": "light"
     },
     "output_type": "display_data"
    }
   ],
   "source": [
    "#Visualize the distribution of entities\n",
    "x,y = map(list,zip(*count))\n",
    "sns.barplot(x = y,y = x)\n",
    "\n",
    "#Companies, agencies, institutions (ORG), Named documents made into laws (LAW), Persons (including fictional) (PERSON), and\n",
    "#Countries, cities and states (GPE) dominate tweets\n"
   ]
  },
  {
   "cell_type": "code",
   "execution_count": 178,
   "metadata": {
    "scrolled": true
   },
   "outputs": [
    {
     "data": {
      "text/plain": [
       "<AxesSubplot:>"
      ]
     },
     "execution_count": 178,
     "metadata": {},
     "output_type": "execute_result"
    },
    {
     "data": {
      "image/png": "[encoded data removed]",
      "text/plain": [
       "<Figure size 432x288 with 1 Axes>"
      ]
     },
     "metadata": {
      "needs_background": "light"
     },
     "output_type": "display_data"
    }
   ],
   "source": [
    "#Create a function to identify the most common tokens per entity, starting with \"ORG\"\n",
    "def ner(text,ent = \"ORG\"):\n",
    "    doc = nlp(text)\n",
    "    return [X.text for X in doc.ents if X.label_ == ent]\n",
    "\n",
    "org = df[\"text\"].apply(lambda x: ner(x))\n",
    "org = [i for x in org for i in x]\n",
    "counter = Counter(org)\n",
    "\n",
    "#Plot a bar chart\n",
    "x,y = map(list,zip(*counter.most_common(10)))\n",
    "sns.barplot(y,x)\n",
    "\n",
    "#Question: Issues of synonyms arise again?"
   ]
  },
  {
   "cell_type": "code",
   "execution_count": 179,
   "metadata": {},
   "outputs": [
    {
     "data": {
      "text/plain": [
       "<AxesSubplot:>"
      ]
     },
     "execution_count": 179,
     "metadata": {},
     "output_type": "execute_result"
    },
    {
     "data": {
      "image/png": "[encoded data removed]",
      "text/plain": [
       "<Figure size 432x288 with 1 Axes>"
      ]
     },
     "metadata": {
      "needs_background": "light"
     },
     "output_type": "display_data"
    }
   ],
   "source": [
    "#Repeat above sequence for \"LAW\" entity\n",
    "law = df[\"text\"].apply(lambda x: ner(x,\"LAW\"))\n",
    "law = [i for x in law for i in x]\n",
    "counter = Counter(law)\n",
    "\n",
    "#Plot a bar chart\n",
    "x,y = map(list,zip(*counter.most_common(10)))\n",
    "sns.barplot(y,x)"
   ]
  },
  {
   "cell_type": "code",
   "execution_count": 180,
   "metadata": {
    "scrolled": true
   },
   "outputs": [
    {
     "data": {
      "text/plain": [
       "<AxesSubplot:>"
      ]
     },
     "execution_count": 180,
     "metadata": {},
     "output_type": "execute_result"
    },
    {
     "data": {
      "image/png": "[encoded data removed]",
      "text/plain": [
       "<Figure size 432x288 with 1 Axes>"
      ]
     },
     "metadata": {
      "needs_background": "light"
     },
     "output_type": "display_data"
    }
   ],
   "source": [
    "#Repeat above sequence for \"PERSON\" entity\n",
    "per = df[\"text\"].apply(lambda x: ner(x,\"PERSON\"))\n",
    "per = [i for x in per for i in x]\n",
    "counter = Counter(per)\n",
    "\n",
    "#Plot a bar chart\n",
    "x,y = map(list,zip(*counter.most_common(10)))\n",
    "sns.barplot(y,x)\n",
    "#Interesting that Roe is categorized under \"LAW\" (it *is* a ruling) and \"PERSON\" (a person was named in the ruling)\n",
    "#Question: And who is @RealPaigeWWE??"
   ]
  },
  {
   "cell_type": "markdown",
   "metadata": {},
   "source": [
    "# Exploration Through Parts of Speech Tagging"
   ]
  },
  {
   "cell_type": "markdown",
   "metadata": {},
   "source": [
    "Parts of speech (POS) tagging assigns part of speech labels to words in a sentence. There are eight main parts of speech:\n",
    "\n",
    "Noun (NN)- Joseph, London, table, cat, teacher, pen, city\n",
    "\n",
    "Verb (VB)- read, speak, run, eat, play, live, walk, have, like, are, is\n",
    "\n",
    "Adjective(JJ)- beautiful, happy, sad, young, fun, three\n",
    "\n",
    "Adverb(RB)- slowly, quietly, very, always, never, too, well, tomorrow\n",
    "\n",
    "Preposition (IN)- at, on, in, from, with, near, between, about, under\n",
    "\n",
    "Conjunction (CC)- and, or, but, because, so, yet, unless, since, if\n",
    "\n",
    "Pronoun(PRP)- I, you, we, they, he, she, it, me, us, them, him, her, this\n",
    "\n",
    "Interjection (INT)- Ouch! Wow! Great! Help! Oh! Hey! Hi!\n"
   ]
  },
  {
   "cell_type": "code",
   "execution_count": 182,
   "metadata": {},
   "outputs": [],
   "source": [
    "#Create a function called plot_parts_of_speech_barchart\n",
    "\n",
    "def plot_parts_of_speach_barchart(text):\n",
    "    nltk.download(\"averaged_perceptron_tagger\")\n",
    "\n",
    "    def _get_pos(text):\n",
    "        pos = nltk.pos_tag(word_tokenize(text))\n",
    "        pos = list(map(list,zip(*pos)))[1]\n",
    "        return pos\n",
    "    \n",
    "    tags = text.apply(lambda x : _get_pos(x))\n",
    "    tags = [x for l in tags for x in l]\n",
    "    counter = Counter(tags)\n",
    "    x,y = list(map(list,zip(*counter.most_common(7))))\n",
    "\n",
    "    sns.barplot(x = y,y = x)"
   ]
  },
  {
   "cell_type": "code",
   "execution_count": 183,
   "metadata": {
    "scrolled": true
   },
   "outputs": [
    {
     "name": "stderr",
     "output_type": "stream",
     "text": [
      "[nltk_data] Downloading package averaged_perceptron_tagger to\n",
      "[nltk_data]     /Users/ebuwa/nltk_data...\n",
      "[nltk_data]   Unzipping taggers/averaged_perceptron_tagger.zip.\n"
     ]
    },
    {
     "data": {
      "image/png": "[encoded data removed]",
      "text/plain": [
       "<Figure size 432x288 with 1 Axes>"
      ]
     },
     "metadata": {
      "needs_background": "light"
     },
     "output_type": "display_data"
    }
   ],
   "source": [
    "#Plot bar chart of parts of speech\n",
    "plot_parts_of_speach_barchart(df[\"text\"])\n",
    "\n",
    "#As expected, nouns predominate the tweets"
   ]
  },
  {
   "cell_type": "code",
   "execution_count": 187,
   "metadata": {},
   "outputs": [
    {
     "data": {
      "text/plain": [
       "<AxesSubplot:>"
      ]
     },
     "execution_count": 187,
     "metadata": {},
     "output_type": "execute_result"
    },
    {
     "data": {
      "image/png": "[encoded data removed]",
      "text/plain": [
       "<Figure size 432x288 with 1 Axes>"
      ]
     },
     "metadata": {
      "needs_background": "light"
     },
     "output_type": "display_data"
    }
   ],
   "source": [
    "#Create a function get_adjs to identify which singular noun most commonly occurs in tweets\n",
    "def get_adjs(text):\n",
    "    adj = []\n",
    "    pos = nltk.pos_tag(word_tokenize(text))\n",
    "    for word,tag in pos:\n",
    "        if tag == \"NN\":\n",
    "            adj.append(word)\n",
    "    return adj\n",
    "\n",
    "\n",
    "words = df[\"text\"].apply(lambda x : get_adjs(x))\n",
    "words = [x for l in words for x in l]\n",
    "counter = Counter(words)\n",
    "\n",
    "#Plot bar chart\n",
    "x,y = list(map(list,zip(*counter.most_common(7))))\n",
    "sns.barplot(x = y,y = x)\n",
    "#The https issue comes to haunt us once more! But, \"abortion\" is second highest occuring single noun"
   ]
  },
  {
   "cell_type": "markdown",
   "metadata": {},
   "source": [
    "# Exploration Through Text Complexity"
   ]
  },
  {
   "cell_type": "code",
   "execution_count": 190,
   "metadata": {
    "scrolled": true
   },
   "outputs": [
    {
     "data": {
      "text/plain": [
       "<AxesSubplot:>"
      ]
     },
     "execution_count": 190,
     "metadata": {},
     "output_type": "execute_result"
    },
    {
     "data": {
      "image/png": "[encoded data removed]",
      "text/plain": [
       "<Figure size 432x288 with 1 Axes>"
      ]
     },
     "metadata": {
      "needs_background": "light"
     },
     "output_type": "display_data"
    }
   ],
   "source": [
    "#Using Flesch-Kincaid Grade Levels (FKGL), widely used in the health policy domain\n",
    "#FKGL = 0.39 * (total words/ totalsentences)+ 11.8 (total syllables/total words) -15.59\n",
    "\n",
    "from textstat import flesch_reading_ease\n",
    "\n",
    "df[\"text\"].\\\n",
    "   apply(lambda x : flesch_reading_ease(x)).hist() \n",
    "#50 is around the 10th to 12th grade level. Fairly difficult to read."
   ]
  },
  {
   "cell_type": "markdown",
   "metadata": {},
   "source": [
    "Code Atrribution:\n",
    "Shahul, E.S. (2022). Exploratory Data Analysis for Natural Language Processing: A Complete Guide to Python Tools. https://neptune.ai/blog/exploratory-data-analysis-natural-language-processing-tools\n",
    "\n",
    "Data Source:\n",
    "SurgeAI. (2022). Dataset of Roe v. Wade Tweets, Labeled by Abortion Stance https://app.surgehq.ai/projects/bc68b398-2e11-4361-a84f-5e9abde9ade8/results_ng?token=K2JgvEuvDQClFp-6"
   ]
  }
 ],
 "metadata": {
  "kernelspec": {
   "display_name": "Python 3 (ipykernel)",
   "language": "python",
   "name": "python3"
  },
  "language_info": {
   "codemirror_mode": {
    "name": "ipython",
    "version": 3
   },
   "file_extension": ".py",
   "mimetype": "text/x-python",
   "name": "python",
   "nbconvert_exporter": "python",
   "pygments_lexer": "ipython3",
   "version": "3.9.12"
  },
  "vscode": {
   "interpreter": {
    "hash": "49c76ddf62ca98de74eedc2bb55b33e27315dcb91d5e2af2ea84b0e3308bb054"
   }
  }
 },
 "nbformat": 4,
 "nbformat_minor": 2
}
